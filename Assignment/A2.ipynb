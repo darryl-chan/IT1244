{
  "nbformat": 4,
  "nbformat_minor": 0,
  "metadata": {
    "colab": {
      "name": "IT1244_A2.ipynb",
      "provenance": [],
      "collapsed_sections": []
    },
    "kernelspec": {
      "name": "python3",
      "display_name": "Python 3"
    },
    "language_info": {
      "name": "python"
    }
  },
  "cells": [
    {
      "cell_type": "markdown",
      "metadata": {
        "id": "8yRj6Htiebfn"
      },
      "source": [
        "# Programming Assignment-2\n",
        "\n",
        "\n",
        "---\n",
        "\n",
        "\n",
        "## **N-Queen Problem**\n",
        "\n",
        "**Objective:**\n",
        "\n",
        "The objective of the assignment is to implement a backtracking solution for N-Queen problem using search teachnique.\n",
        "\n",
        "N-Queen problem is defined as follows:\n",
        "\n",
        "*   You have an NxN chessboard and you are asked to place N queens over the chessboard, such that each column contains only one queen.\n",
        "*   In addition, no pair of queens should be attacking the other.\n",
        "*   Here N can take values from 4, 5, 6, etc.\n",
        "\n",
        "**Deliverables:**\n",
        "\n",
        "*   This colab notebook with python codes ONLY.\n",
        "\n",
        "Total Marks: 15.\n",
        "---\n",
        "\n",
        "\n"
      ]
    },
    {
      "cell_type": "markdown",
      "metadata": {
        "id": "x2yyyaad8lLe"
      },
      "source": [
        "##**Q1. `printBoard()`** \n",
        "You need to write a python function that prints the contents of the chessboard. You will use this function in the next sections. The chessboard is stored as 2D list whose elements are 0 or 1. Value '0' represents no queen and value '1' replresents a queen in that position. (3 marks)"
      ]
    },
    {
      "cell_type": "code",
      "metadata": {
        "id": "zzBkU7IbeaO5"
      },
      "source": [
        "# function to print the contents of the chessboard. You need to get the number \n",
        "# of rows and cols from the board variable, which is a list.\n",
        "def printBoard(board):\n",
        "  # start\n",
        "  size = len(board)\n",
        "  for i in range(size):\n",
        "    String = \"\"\n",
        "    for j in range(size):\n",
        "      String += str(board[i][j])\n",
        "      String += \" \"\n",
        "    print(String)\n",
        "  \n",
        "  # end"
      ],
      "execution_count": 2,
      "outputs": []
    },
    {
      "cell_type": "markdown",
      "metadata": {
        "id": "xNFpb27oxZvh"
      },
      "source": [
        "When you run the below code it should print the contents of the chessboard."
      ]
    },
    {
      "cell_type": "code",
      "metadata": {
        "id": "EoAxrSzY1M_T",
        "colab": {
          "base_uri": "https://localhost:8080/"
        },
        "outputId": "45ca589c-5968-4f56-e727-318cfa49a89d"
      },
      "source": [
        "# driver code to test the printBoard()\n",
        "\n",
        "N=4\n",
        "board = [[0 for i in range(N)] for j in range(N)]\n",
        "board[1][0]=1\n",
        "board[3][0]=1\n",
        "board[0][2]=1\n",
        "board[2][3]=1\n",
        "\n",
        "printBoard(board)"
      ],
      "execution_count": 3,
      "outputs": [
        {
          "output_type": "stream",
          "name": "stdout",
          "text": [
            "0 0 1 0 \n",
            "1 0 0 0 \n",
            "0 0 0 1 \n",
            "1 0 0 0 \n"
          ]
        }
      ]
    },
    {
      "cell_type": "markdown",
      "metadata": {
        "id": "jrdyOADe1XYc"
      },
      "source": [
        "Expected output:\n",
        "\n",
        "```\n",
        "0 0 1 0 \n",
        "1 0 0 0 \n",
        "0 0 0 1 \n",
        "1 0 0 0 \n",
        "```"
      ]
    },
    {
      "cell_type": "markdown",
      "metadata": {
        "id": "XEqTlazczFSV"
      },
      "source": [
        "##**Q2. `checkSafety()`** \n",
        "You need to write a python function to check the safety of the queen that is to be placed at the location (row, col) - i.e., your function should return `True` if placing a queen at (row, col) does not attack any other queens that are already in the board. Else, the function should return `False`. You may have to use `printBoard()` function in your code for debugging purposes. (5 marks)"
      ]
    },
    {
      "cell_type": "code",
      "metadata": {
        "id": "CbhMOf4oxMtJ"
      },
      "source": [
        "# function to check if there are conflicting pairs of queens.\n",
        "# Note: You need to check if there are other queens already\n",
        "# placed in the horizontal, vertical and diagonal directions\n",
        "# from the given location (row, col)\n",
        "def checkSafety(board, row, col):\n",
        "  # start\n",
        "  size = len(board)\n",
        "\n",
        "  #check in diagonal right down\n",
        "  #(0,1), (1,2), (2,3) are diagonals then the top diagonal would be\n",
        "  # x = min(row,col) top most coordinate = (row-x, col-x)\n",
        "  \n",
        "  x = min(row,col)\n",
        "  topcoord = (row-x, col-x)\n",
        "  coord = list(topcoord)\n",
        "  #Basically the top most coordinate's column tells us how many times we need\n",
        "  #to check. If one of the coordinate reaches N, check then terminate loop\n",
        "  while (coord[0] < size and coord[1] < size):\n",
        "    #Checks if board is 1 and it is not at (row,col)\n",
        "    if board[coord[0]][coord[1]] == 1 and not ((coord[0], coord[1]) == (row, col)):\n",
        "      return False\n",
        "    coord[0] += 1\n",
        "    coord[1] += 1\n",
        "\n",
        "  #check in diagonal left down\n",
        "  #coordinate. (0,2), (1,1), (2,0) shares the same top most coordinate\n",
        "  coord = list((row,col))\n",
        "  while (coord[0] < size and coord[1]>= 0):\n",
        "    #Checks if board is 1 and it is not at (row,col)\n",
        "    #print((coord[0],coord[1]))\n",
        "    if board[coord[0]][coord[1]] == 1 and not ((coord[0], coord[1]) == (row, col)):\n",
        "      return False\n",
        "    coord[0] += 1\n",
        "    coord[1] -= 1\n",
        "\n",
        "  #check in diagonal right up\n",
        "  coord = list((row,col))\n",
        "  while (coord[0] >= 0 and coord[1] < size):\n",
        "    #Checks if board is 1 and it is not at (row,col)\n",
        "    if board[coord[0]][coord[1]] == 1 and not ((coord[0], coord[1]) == (row, col)):\n",
        "      return False\n",
        "    coord[0] -= 1\n",
        "    coord[1] += 1\n",
        "\n",
        "  #check in horizontal direction\n",
        "  for i in range(size):\n",
        "    if (row,col) == (row, i):\n",
        "      continue\n",
        "    if board[row][i] == 1:\n",
        "      return False\n",
        "      \n",
        "  #check in vertical direction\n",
        "  for i in range(size):\n",
        "    if (row, col) == (i, col):\n",
        "      continue\n",
        "    if board[i][col] == 1:\n",
        "      return False\n",
        "\n",
        "  return True\n",
        "  # end"
      ],
      "execution_count": 4,
      "outputs": []
    },
    {
      "cell_type": "markdown",
      "metadata": {
        "id": "qtYiItxD2-NE"
      },
      "source": [
        "When you run the below code, it should print the expected output."
      ]
    },
    {
      "cell_type": "code",
      "metadata": {
        "id": "VIdYMFYk3CUo",
        "colab": {
          "base_uri": "https://localhost:8080/"
        },
        "outputId": "e42781f4-91fa-4b11-9ada-b31607e9eda3"
      },
      "source": [
        "# driver code to test the checkSafety()\n",
        "\n",
        "N=4\n",
        "board = [[0 for i in range(N)] for j in range(N)]\n",
        "board[1][0]=1\n",
        "board[3][1]=1\n",
        "board[0][2]=1\n",
        "board[2][3]=1\n",
        "\n",
        "# testing the checkSafety function\n",
        "result = checkSafety(board, 1,0) # by placing a queen at (1,0)\n",
        "print(result)\n",
        "result = checkSafety(board, 1,1) # by placing a queen at (1,1)\n",
        "print(result)\n",
        "result = checkSafety(board, 2,3) # by placing a queen at (2,3)\n",
        "print(result)\n",
        "result = checkSafety(board, 3,2) # by placing a queen at (3,2)\n",
        "print(result)"
      ],
      "execution_count": 5,
      "outputs": [
        {
          "output_type": "stream",
          "name": "stdout",
          "text": [
            "True\n",
            "False\n",
            "True\n",
            "False\n"
          ]
        }
      ]
    },
    {
      "cell_type": "markdown",
      "metadata": {
        "id": "xGnZhsCI5Q44"
      },
      "source": [
        "Expected output:\n",
        "\n",
        "\n",
        "```\n",
        "True\n",
        "False\n",
        "True\n",
        "False\n",
        "```\n",
        "\n"
      ]
    },
    {
      "cell_type": "markdown",
      "metadata": {
        "id": "jkxbh08uFZwd"
      },
      "source": [
        "##**Q3. Backtracking Method**\n",
        "You need to write down a python function for solving the N-Queen problem using backtracking method.  You need to use recursive function for this approach. Under each recursion, you will place a queen in each column incrementally. Everytime you place a queen in their respective column, you will check for the safety of this queen. If it is safe, then you will return `True` else you will return `False`. Once all the N-queens are successfully placed in the board, the function should print the contents of the board and return `True`. There can be multiple answers for an N-sized board, printing any of them will be marked as correct. (8 marks)"
      ]
    },
    {
      "cell_type": "code",
      "metadata": {
        "id": "x0LTbMOHFZwe"
      },
      "source": [
        "# function to compute the all possible solutions for N queen problem using \n",
        "# backtracking method.\n",
        "# You should get the value of N from the size of the board.\n",
        "# col - represents the current column in which the queen is placed. This variable \n",
        "# will be updated in the subsequent recursive call.\n",
        "\n",
        "def solveNQueenBT(board, col):  \n",
        "  # start\n",
        "  size = len(board)\n",
        "  if size == col: #Each column successfully populated with queens and its correct\n",
        "    printBoard(board)\n",
        "    return True\n",
        "  for i in range(size):\n",
        "    if checkSafety(board, i,col):\n",
        "      board[i][col] = 1\n",
        "      if (solveNQueenBT(board,col+1) == True): #If true, then solution found and no conflicting issues in the recursive call\n",
        "        return True\n",
        "      #If not found, restart the process\n",
        "      board[i][col] = 0\n",
        "  #No solution found\n",
        "  return False\n",
        "  # end"
      ],
      "execution_count": 15,
      "outputs": []
    },
    {
      "cell_type": "markdown",
      "metadata": {
        "id": "td9W_-ZNFZwf"
      },
      "source": [
        "When you run the below code, it should print the any of the solution. It may vary depending on the logic that you have used. "
      ]
    },
    {
      "cell_type": "code",
      "metadata": {
        "id": "abKT0AKAFZwf",
        "colab": {
          "base_uri": "https://localhost:8080/"
        },
        "outputId": "4a71b605-2a31-48d3-8d4c-a5f2ce5e2abf"
      },
      "source": [
        "# driver code to test the solve4QueenBT()\n",
        "N = 4\n",
        "board = [[0 for i in range(N)] for j in range(N)]\n",
        "solveNQueenBT(board, 0);\n"
      ],
      "execution_count": 19,
      "outputs": [
        {
          "output_type": "stream",
          "name": "stdout",
          "text": [
            "0 0 1 0 \n",
            "1 0 0 0 \n",
            "0 0 0 1 \n",
            "0 1 0 0 \n"
          ]
        }
      ]
    },
    {
      "cell_type": "markdown",
      "metadata": {
        "id": "gTH-ViF6FZwf"
      },
      "source": [
        "Expected output (may vary):\n",
        "```\n",
        "Solution \n",
        "0 0 1 0 \n",
        "1 0 0 0 \n",
        "0 0 0 1 \n",
        "0 1 0 0 \n",
        "```"
      ]
    },
    {
      "cell_type": "markdown",
      "metadata": {
        "id": "fOMDVAKyDpAM"
      },
      "source": [
        "# End of your assignment"
      ]
    }
  ]
}