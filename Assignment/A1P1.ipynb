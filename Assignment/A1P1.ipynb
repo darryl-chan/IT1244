{
  "nbformat": 4,
  "nbformat_minor": 0,
  "metadata": {
    "colab": {
      "name": "A1P1_T3_E0257193.ipynb",
      "provenance": [],
      "collapsed_sections": []
    },
    "kernelspec": {
      "name": "python3",
      "display_name": "Python 3"
    },
    "language_info": {
      "name": "python"
    }
  },
  "cells": [
    {
      "cell_type": "markdown",
      "metadata": {
        "id": "mJINqwUGWv2J"
      },
      "source": [
        "# **Python question for beginners**"
      ]
    },
    {
      "cell_type": "markdown",
      "metadata": {
        "id": "BdI-ym0JeBFv"
      },
      "source": [
        "### **String manipulation**\n",
        "\n",
        "In python, a string is any symbol, character, or digit that is between two quotation marks. For example, `\"hi ?? &1\"` is a string, since it is between two quotation marks \". The quotation marks can also be two '."
      ]
    },
    {
      "cell_type": "markdown",
      "metadata": {
        "id": "YGTgue9sL4sc"
      },
      "source": [
        "1. **Print** a simple string \"Hello World\" and **print the length** of this string by using the function `len()`."
      ]
    },
    {
      "cell_type": "code",
      "metadata": {
        "id": "Pl3shSdtqwRq",
        "colab": {
          "base_uri": "https://localhost:8080/"
        },
        "outputId": "d829094d-4faa-4f7c-c703-fc877e23ffb8"
      },
      "source": [
        "message = \"Hello World\"\n",
        "\n",
        "# start\n",
        "print(message)\n",
        "print(len(message))\n",
        "# end"
      ],
      "execution_count": 1,
      "outputs": [
        {
          "output_type": "stream",
          "name": "stdout",
          "text": [
            "Hello World\n",
            "11\n"
          ]
        }
      ]
    },
    {
      "cell_type": "markdown",
      "metadata": {
        "id": "YzOGaNA0W5KC"
      },
      "source": [
        "2. Given two parts of a string \"Spider\" and \"Man\", and print the **concatenation** of these two strings so it prints \"SpiderMan\". We use + to concatenate two strings."
      ]
    },
    {
      "cell_type": "code",
      "metadata": {
        "id": "u8AQX9VaMCO_",
        "colab": {
          "base_uri": "https://localhost:8080/"
        },
        "outputId": "2feeb866-4309-4821-99a1-07fd22f79756"
      },
      "source": [
        "part1 = \"Spider\"\n",
        "part2 = \"Man\"\n",
        "\n",
        "# start\n",
        "print(part1+part2)\n",
        "# end"
      ],
      "execution_count": null,
      "outputs": [
        {
          "output_type": "stream",
          "name": "stdout",
          "text": [
            "SpiderMan\n"
          ]
        }
      ]
    },
    {
      "cell_type": "markdown",
      "metadata": {
        "id": "KYTkrdXdW6hx"
      },
      "source": [
        "3. Indexing a string is done by using square brackets. Print the three first letters of the word \"hello\" by using **string indexation**.\n",
        "\n",
        "Hint: Be careful, in python, the first character of a string is indexed by 0 and not by 1. For example, if a string is `message = \"python\"`, then `message[0] = p`."
      ]
    },
    {
      "cell_type": "code",
      "metadata": {
        "id": "e2_qVAOcMKCV",
        "colab": {
          "base_uri": "https://localhost:8080/"
        },
        "outputId": "1a66702f-214d-43c0-e9ea-be34961a8258"
      },
      "source": [
        "message = \"hello\"\n",
        "\n",
        "# start\n",
        "print(message[0:3])\n",
        "# end"
      ],
      "execution_count": 2,
      "outputs": [
        {
          "output_type": "stream",
          "name": "stdout",
          "text": [
            "hel\n"
          ]
        }
      ]
    },
    {
      "cell_type": "markdown",
      "metadata": {
        "id": "1M33roTdW7r0"
      },
      "source": [
        "4. Print \"abracadabra\" but only for letters 2 to 7, so it prints \"bracad\", using **string slicing**."
      ]
    },
    {
      "cell_type": "code",
      "metadata": {
        "id": "PtfToWXwMUiT",
        "colab": {
          "base_uri": "https://localhost:8080/"
        },
        "outputId": "80a643ab-7fd9-4efb-f32b-6de1ac2226d1"
      },
      "source": [
        "message = \"abracadabra\"\n",
        "\n",
        "# start\n",
        "print(message[1:7])\n",
        "# end"
      ],
      "execution_count": null,
      "outputs": [
        {
          "output_type": "stream",
          "name": "stdout",
          "text": [
            "bracad\n"
          ]
        }
      ]
    },
    {
      "cell_type": "markdown",
      "metadata": {
        "id": "OY2WNm8IW9ac"
      },
      "source": [
        "5. **Lower** the characters of the string \"SPIDERMAN\" so and print the result \"spiderman\".\n",
        "\n",
        "Hint: Check the python function `lower()`"
      ]
    },
    {
      "cell_type": "code",
      "metadata": {
        "id": "ckHvu9LTMyy8",
        "colab": {
          "base_uri": "https://localhost:8080/"
        },
        "outputId": "1dc55a3b-550d-4cc5-afa9-10b5b7e7e689"
      },
      "source": [
        "message=\"SPIDERMAN\"\n",
        "\n",
        "# start\n",
        "print(message.lower())\n",
        "# end"
      ],
      "execution_count": null,
      "outputs": [
        {
          "output_type": "stream",
          "name": "stdout",
          "text": [
            "spiderman\n"
          ]
        }
      ]
    },
    {
      "cell_type": "markdown",
      "metadata": {
        "id": "a9Yfgp3dW-no"
      },
      "source": [
        "6. **Count** the number of letters, numbers and symbols in the given string. Note that space is not considered as symbols.\n",
        "\n",
        "Hint : You need to use a `for` loop, and the functions `isdigit()` and `isalpha()`. You will also have to use `if/else` conditions. For other questions, whether conditions are needed will not be specified."
      ]
    },
    {
      "cell_type": "code",
      "metadata": {
        "colab": {
          "base_uri": "https://localhost:8080/"
        },
        "id": "OfkgiKuRM3O2",
        "outputId": "7c52db39-f23e-4de4-fb61-1bc61229e90f"
      },
      "source": [
        "message=\"one 1 two! 2 three four!4, 6,;7++9\"\n",
        "#message=\"a+rtifici;a(l i$ntelli/)gence (AI), the abil7,(ity$ o4f a. d1igit]a)]l 5c$omputer o5r comput+e]9)96r-+23?controll:ed3 r0ob;o%-t t]?o; per)f1orm4 tasks3 -5.c3%o6mm)on7ly, a3sso;-c+ia,ted wi.th 8i$ntell8ige([nt )+$beings:.\"\n",
        "n_alpha = 0\n",
        "n_digit = 0\n",
        "n_symbol = 0\n",
        "\n",
        "# start\n",
        "for i in message:\n",
        "  if i.isdigit():\n",
        "    n_digit+=1\n",
        "  elif i.isalpha():\n",
        "    n_alpha+=1\n",
        "  elif i == \" \":\n",
        "    continue\n",
        "  else:\n",
        "    n_symbol+=1\n",
        "\n",
        "\n",
        "# end\n",
        "print(n_alpha, n_digit, n_symbol)"
      ],
      "execution_count": 15,
      "outputs": [
        {
          "output_type": "stream",
          "name": "stdout",
          "text": [
            "15 6 13\n"
          ]
        }
      ]
    },
    {
      "cell_type": "markdown",
      "metadata": {
        "id": "CkRbreBEeFTr"
      },
      "source": [
        "### **Lists and set manipulation**\n",
        "\n",
        "A list is a data structure that contains a series of values. Python allows the construction of lists containing values of different types (for example integer and string). A list is declared by a series of values (don't forget the quotes, single or double, if they are strings) separated by commas, and the whole surrounded by square brackets.\n",
        "\n",
        "Lists have a lot in common with strings. Checking the length of a string, as well as indexing, concatenating and slicing lists are done in the same way as for strings.\n",
        "\n",
        "An empty list object can be initialized as:\n",
        "\n",
        "```python\n",
        "a = []\n",
        "```"
      ]
    },
    {
      "cell_type": "markdown",
      "metadata": {
        "id": "B2pASrDaXD6G"
      },
      "source": [
        "7. **Initialize** `my_list_string` to be an empty list. **Add** the strings \"alice\", \"bob\", and \"charlie\" to the list `my_list_string`."
      ]
    },
    {
      "cell_type": "code",
      "metadata": {
        "colab": {
          "base_uri": "https://localhost:8080/"
        },
        "id": "vRb-gVHyPm-H",
        "outputId": "13590a95-25a8-49ef-80c6-681e4d603669"
      },
      "source": [
        "my_list_string = None\n",
        "\n",
        "# start\n",
        "my_list_string=[]\n",
        "my_list_string.append(\"alice\")\n",
        "my_list_string.append(\"bob\")\n",
        "my_list_string.append(\"charlie\")\n",
        "\n",
        "\n",
        "# end\n",
        "\n",
        "print(my_list_string)"
      ],
      "execution_count": 13,
      "outputs": [
        {
          "output_type": "stream",
          "name": "stdout",
          "text": [
            "['alice', 'bob', 'charlie']\n"
          ]
        }
      ]
    },
    {
      "cell_type": "markdown",
      "metadata": {
        "id": "8M7j9F4oXE-5"
      },
      "source": [
        "8. **Print the length** of `my_list_string`."
      ]
    },
    {
      "cell_type": "code",
      "metadata": {
        "id": "Tj_cH5pSPtlJ",
        "colab": {
          "base_uri": "https://localhost:8080/"
        },
        "outputId": "81d4920d-c9f1-4538-dcc6-2da711d3480f"
      },
      "source": [
        "# start\n",
        "print(len(my_list_string))\n",
        "# end"
      ],
      "execution_count": null,
      "outputs": [
        {
          "output_type": "stream",
          "name": "stdout",
          "text": [
            "3\n"
          ]
        }
      ]
    },
    {
      "cell_type": "markdown",
      "metadata": {
        "id": "_-QQ-wkoXFpe"
      },
      "source": [
        "9. Find **two ways** to select the last element of the list `my_list_string`, and print it."
      ]
    },
    {
      "cell_type": "code",
      "metadata": {
        "id": "qGyl7k2uPvm6",
        "colab": {
          "base_uri": "https://localhost:8080/"
        },
        "outputId": "0ba060f8-d057-436b-c92f-78b3cc0469f5"
      },
      "source": [
        "# start\n",
        "print(my_list_string[2])\n",
        "print(my_list_string[-1])\n",
        "# end"
      ],
      "execution_count": null,
      "outputs": [
        {
          "output_type": "stream",
          "name": "stdout",
          "text": [
            "charlie\n",
            "charlie\n"
          ]
        }
      ]
    },
    {
      "cell_type": "markdown",
      "metadata": {
        "id": "fCTFTQ22XGUj"
      },
      "source": [
        "10. In python, there are several ways to **delete an element** from a list. In this question, we will try to use these three methods :\n",
        "\n",
        "*   `list.pop(index)`\n",
        "*   `del(list[index])`\n",
        "*   `list.remove(item)`\n",
        "\n",
        "For each method, delete the element `\"bob\"` from `my_string_list2`.\n",
        "\n",
        "\n"
      ]
    },
    {
      "cell_type": "code",
      "source": [
        "# pop method\n",
        "my_list_string2 = my_list_string.copy()\n",
        "\n",
        "# start\n",
        "my_list_string2.pop(1)\n",
        "# end\n",
        "print(my_list_string2)\n",
        "\n",
        "\n",
        "# del method\n",
        "my_list_string2 = my_list_string.copy()\n",
        "\n",
        "# start\n",
        "del(my_list_string2[1])\n",
        "# end\n",
        "print(my_list_string2)\n",
        "\n",
        "# remove method\n",
        "my_list_string2 = my_list_string.copy()\n",
        "\n",
        "# start\n",
        "my_list_string2.remove(\"bob\")\n",
        "# end\n",
        "print(my_list_string2)"
      ],
      "metadata": {
        "id": "zqHucLnr0mtk",
        "colab": {
          "base_uri": "https://localhost:8080/"
        },
        "outputId": "89fef984-35d8-4572-9621-9c456f9e4a53"
      },
      "execution_count": null,
      "outputs": [
        {
          "output_type": "stream",
          "name": "stdout",
          "text": [
            "['alice', 'charlie']\n",
            "['alice', 'charlie']\n",
            "['alice', 'charlie']\n"
          ]
        }
      ]
    },
    {
      "cell_type": "markdown",
      "metadata": {
        "id": "WFptWboyXHPJ"
      },
      "source": [
        "11. **Sort** the following lists : `list_30` and save the results in variables `list_30_sorted`. \n",
        "\n",
        "Hint: Look for python's sorting function `sorted`"
      ]
    },
    {
      "cell_type": "code",
      "metadata": {
        "colab": {
          "base_uri": "https://localhost:8080/"
        },
        "id": "Gg92XkZhRb02",
        "outputId": "b67b7396-6b47-4f82-e78a-bfd75b4badf4"
      },
      "source": [
        "list_30 = [13, 8, 9, 16, 15, 3, 28, 6, 4, 2, 24, 30, 29, 23, 14, 27, 26, 19, 7, 5, 1, 20, 10, 18, 25, 22, 21, 17, 12, 11]\n",
        "\n",
        "list_sorted = None\n",
        "#start\n",
        "list_sorted = sorted(list_30)\n",
        "# end \n",
        "print(list_sorted)"
      ],
      "execution_count": null,
      "outputs": [
        {
          "output_type": "stream",
          "name": "stdout",
          "text": [
            "[1, 2, 3, 4, 5, 6, 7, 8, 9, 10, 11, 12, 13, 14, 15, 16, 17, 18, 19, 20, 21, 22, 23, 24, 25, 26, 27, 28, 29, 30]\n"
          ]
        }
      ]
    },
    {
      "cell_type": "markdown",
      "metadata": {
        "id": "JTx8G3NbXIOA"
      },
      "source": [
        "12. **Count the number of occurences** of the word \"dog\" in `list_animals` and save the results in the variable `count_of_dog`.\n",
        "\n",
        "Hint: Look for python's counting function `count`"
      ]
    },
    {
      "cell_type": "code",
      "metadata": {
        "colab": {
          "base_uri": "https://localhost:8080/"
        },
        "id": "HdZpRZuMSaN-",
        "outputId": "f9754307-895f-4276-f2ef-e0e29f386aa7"
      },
      "source": [
        "list_animals = [\"dog\",\"cat\",\"mouse\",\"capybara\",\"cow\",\"dog\",\"dog\",\"mouse\",\"cow\",\"capybara\",\"cat\",\"dog\"]\n",
        "\n",
        "count_of_dog = 0\n",
        "# start\n",
        "count_of_dog=list_animals.count(\"dog\")\n",
        "# end\n",
        "print(count_of_dog)"
      ],
      "execution_count": 4,
      "outputs": [
        {
          "output_type": "stream",
          "name": "stdout",
          "text": [
            "4\n"
          ]
        }
      ]
    },
    {
      "cell_type": "markdown",
      "metadata": {
        "id": "4jEMN4B9XJcP"
      },
      "source": [
        "13. **Give the index** of the word \"capybara\" in `list_animals` and save the result in variable `index_of_capybara`.\n",
        "\n",
        "Hint: Check python function `index`."
      ]
    },
    {
      "cell_type": "code",
      "metadata": {
        "colab": {
          "base_uri": "https://localhost:8080/"
        },
        "id": "GsTv8cS7S8_X",
        "outputId": "e2e80fac-a028-44ee-e12c-0b220b948679"
      },
      "source": [
        "list_animals = [\"dog\",\"cat\",\"mouse\",\"capybara\",\"cow\",\"dog\",\"dog\",\"mouse\",\"cow\",\"capybara\",\"cat\",\"dog\"]\n",
        "\n",
        "index_of_capybara = 0\n",
        "# start\n",
        "index_of_capybara = list_animals.index(\"capybara\")\n",
        "# end\n",
        "print(index_of_capybara)"
      ],
      "execution_count": 5,
      "outputs": [
        {
          "output_type": "stream",
          "name": "stdout",
          "text": [
            "3\n"
          ]
        }
      ]
    },
    {
      "cell_type": "markdown",
      "metadata": {
        "id": "Y6TQlUjYXKMW"
      },
      "source": [
        "14. **Concatenate** the two lists `list_animals` and `list_animals2` into a new list `animals`."
      ]
    },
    {
      "cell_type": "code",
      "metadata": {
        "colab": {
          "base_uri": "https://localhost:8080/"
        },
        "id": "J8CB4KcUUb0r",
        "outputId": "f5b0d5a8-7859-407f-f13a-063600f31249"
      },
      "source": [
        "list_animals = [\"dog\",\"cat\",\"mouse\",\"capybara\",\"cow\",\"dog\",\"dog\",\"mouse\",\"cow\",\"capybara\",\"cat\",\"dog\"]\n",
        "list_animals2 = ['cat', 'dog', 'rabbit', 'horse']\n",
        "\n",
        "animals = None\n",
        "# start\n",
        "animals = list_animals + list_animals2\n",
        "# end\n",
        "\n",
        "print(animals)"
      ],
      "execution_count": 6,
      "outputs": [
        {
          "output_type": "stream",
          "name": "stdout",
          "text": [
            "['dog', 'cat', 'mouse', 'capybara', 'cow', 'dog', 'dog', 'mouse', 'cow', 'capybara', 'cat', 'dog', 'cat', 'dog', 'rabbit', 'horse']\n"
          ]
        }
      ]
    },
    {
      "cell_type": "markdown",
      "metadata": {
        "id": "IQoUivFPXLmo"
      },
      "source": [
        "15. Print all the animal names that are in `list_animals` and which **first letter is c**. \n",
        "\n",
        "Hint: You may need to use with `for`-loop.\n"
      ]
    },
    {
      "cell_type": "code",
      "metadata": {
        "id": "q7oCu-b3WJf5",
        "colab": {
          "base_uri": "https://localhost:8080/"
        },
        "outputId": "695162ea-7cbd-48ce-8077-673ea0a03d79"
      },
      "source": [
        "list_animals = [\"dog\",\"cat\",\"mouse\",\"capybara\",\"cow\",\"dog\",\"dog\",\"mouse\",\"cow\",\"capybara\",\"cat\",\"dog\"]\n",
        "\n",
        "# start\n",
        "for i in list_animals:\n",
        "  if i[0] == \"c\":\n",
        "    print(i)\n",
        "\n",
        "\n",
        "# end"
      ],
      "execution_count": null,
      "outputs": [
        {
          "output_type": "stream",
          "name": "stdout",
          "text": [
            "cat\n",
            "capybara\n",
            "cow\n",
            "cow\n",
            "capybara\n",
            "cat\n"
          ]
        }
      ]
    },
    {
      "cell_type": "markdown",
      "metadata": {
        "id": "TILhwx0lXMZA"
      },
      "source": [
        "16. **Sum** all elements in the list and save the results in variable `list_sum`. It means that if the list is `[a,b,c,d]`, the result should be `a+b+c+d`.\n",
        "\n",
        "Hint: You should not use any loops. Check for a python function that can directly do what is asked.\n"
      ]
    },
    {
      "cell_type": "code",
      "metadata": {
        "colab": {
          "base_uri": "https://localhost:8080/"
        },
        "id": "QLLroNryXlnl",
        "outputId": "6bcb5d9f-4d2c-4a57-f31b-2a7432bf494c"
      },
      "source": [
        "list_30 = [13, 8, 9, 16, 15, 3, 28, 6, 4, 2, 24, 30, 29, 23, 14, 27, 26, 19, 7, 5, 1, 20, 10, 18, 25, 22, 21, 17, 12, 11]\n",
        "\n",
        "list_sum = 0\n",
        "# start\n",
        "list_sum = sum(list_30)\n",
        "# end\n",
        "print(list_sum)"
      ],
      "execution_count": null,
      "outputs": [
        {
          "output_type": "stream",
          "name": "stdout",
          "text": [
            "465\n"
          ]
        }
      ]
    },
    {
      "cell_type": "markdown",
      "metadata": {
        "id": "jZ1n8cAuZOT4"
      },
      "source": [
        "17. Find the **intersection** of `list_animals` and `list_animals2`, i.e. a set with all the animals that are present in both lists. Save the results in variable `animals_intersection`.\n",
        "\n",
        "Hint: You might need to use the python object `set()`"
      ]
    },
    {
      "cell_type": "code",
      "metadata": {
        "colab": {
          "base_uri": "https://localhost:8080/"
        },
        "id": "9eaidUNBYmEH",
        "outputId": "f7e8afff-4f70-4428-cdae-36dbaa58c5c1"
      },
      "source": [
        "list_animals = [\"dog\",\"cat\",\"mouse\",\"capybara\",\"cow\",\"dog\",\"dog\",\"mouse\",\"cow\",\"capybara\",\"cat\",\"dog\"]\n",
        "list_animals2 = ['cat', 'dog', 'rabbit', 'horse']\n",
        "\n",
        "animals_intersection = None\n",
        "# start\n",
        "animals_intersection = []\n",
        "for i in list_animals2:\n",
        "  if i in list_animals:\n",
        "    animals_intersection.append(i)\n",
        "\n",
        "# end\n",
        "print(animals_intersection)"
      ],
      "execution_count": null,
      "outputs": [
        {
          "output_type": "stream",
          "name": "stdout",
          "text": [
            "['cat', 'dog']\n"
          ]
        }
      ]
    },
    {
      "cell_type": "markdown",
      "metadata": {
        "id": "rQhSPJNeaj5F"
      },
      "source": [
        "18. Check whether `list2` is a **subset** of `list1`, i.e. whether you can find all elements of `list2` in `list1`.\n",
        "\n",
        "Hint: Check the function `issubset`"
      ]
    },
    {
      "cell_type": "code",
      "metadata": {
        "colab": {
          "base_uri": "https://localhost:8080/"
        },
        "id": "ntUdfX_KaKuD",
        "outputId": "246f3492-826a-45ee-dd5a-ef259f33276b"
      },
      "source": [
        "list1 = [1,2,2]\n",
        "list2 = [1,2]\n",
        "is_subset = False\n",
        "\n",
        "# start\n",
        "is_subset = set(list2).issubset(set(list1))\n",
        "# end\n",
        "\n",
        "## Testing\n",
        "print(\"Is\", list2, \"a subset of\", list1, \"? : \", is_subset)"
      ],
      "execution_count": null,
      "outputs": [
        {
          "output_type": "stream",
          "name": "stdout",
          "text": [
            "Is [1, 2] a subset of [1, 2, 2] ? :  True\n"
          ]
        }
      ]
    },
    {
      "cell_type": "markdown",
      "metadata": {
        "id": "Kjjz7geCbpgC"
      },
      "source": [
        "19. Split a string of a sentence into a **list of string words** by space. For example, if the string is \"Hi everyone my name is John\", you should have the list `[\"Hey\", \"everyone\", \"my\", \"name\", \"is\", \"John\"]` as a result.\n",
        "\n",
        "Hint: Look for the function `split` on python."
      ]
    },
    {
      "cell_type": "code",
      "metadata": {
        "colab": {
          "base_uri": "https://localhost:8080/"
        },
        "id": "9t9b9-jVbh7J",
        "outputId": "27bb6951-9b37-44c4-91e6-31f59bc93057"
      },
      "source": [
        "lorem = \"Lorem ipsum dolor sit amet consectetur adipiscing elit sed do eiusmod tempor incididunt ut labore et dolore magna aliqua\"\n",
        "\n",
        "lorem_list = None\n",
        "# start\n",
        "lorem_list = lorem.split()\n",
        "# end\n",
        "print(lorem_list)"
      ],
      "execution_count": null,
      "outputs": [
        {
          "output_type": "stream",
          "name": "stdout",
          "text": [
            "['Lorem', 'ipsum', 'dolor', 'sit', 'amet', 'consectetur', 'adipiscing', 'elit', 'sed', 'do', 'eiusmod', 'tempor', 'incididunt', 'ut', 'labore', 'et', 'dolore', 'magna', 'aliqua']\n"
          ]
        }
      ]
    },
    {
      "cell_type": "markdown",
      "source": [
        "20. Python allows lists inside list, which can be used to save more than 1-dimensional data. Create an empty python list `my_array` and add the following three lists into the `my_array`.\n",
        "\n",
        "*  First row: `[0,1,2]`\n",
        "*  Second row: `[3,4,5]`\n",
        "*  Third row: `[6,7,8]`"
      ],
      "metadata": {
        "id": "Uz2ddJo0P2A2"
      }
    },
    {
      "cell_type": "code",
      "source": [
        "my_array = None\n",
        "\n",
        "# Start\n",
        "my_array = []\n",
        "my_array.append([0,1,2])\n",
        "my_array.append([3,4,5])\n",
        "my_array.append([6,7,8])\n",
        "# end\n",
        "\n",
        "print(my_array)"
      ],
      "metadata": {
        "colab": {
          "base_uri": "https://localhost:8080/"
        },
        "id": "2Ryia3xfQZdu",
        "outputId": "366ae4bc-ff10-4c27-8dde-75494331106d"
      },
      "execution_count": null,
      "outputs": [
        {
          "output_type": "stream",
          "name": "stdout",
          "text": [
            "[[0, 1, 2], [3, 4, 5], [6, 7, 8]]\n"
          ]
        }
      ]
    },
    {
      "cell_type": "markdown",
      "metadata": {
        "id": "XYK5oxxMwIkh"
      },
      "source": [
        "### **Dictionary**\n",
        "\n",
        "A dictionary (or, in short in Python, dict) is a collection that associates a key with a value. For example, it is possible to associate the key `\"animal\"` with an animal name and the key `\"height\"` with the height of the animal. To create a dictionary, we associate a key with a value by separating them with `,`, all between braces `{}`.\n",
        "\n",
        "For example: `my_dict = {\"animal\"=\"giraffe\", \"height\"=5}`.\n",
        "\n",
        "To access an element of a dict, you must use square brackets and specify the value of the key. For example : `my_dict[\"animal\"] = \"giraffe\"`\n",
        "\n",
        "We show two ways to initialize a `dict` object as follows:\n",
        "\n",
        "```python\n",
        "my_dict = {}\n",
        "## alternatively\n",
        "my_dict = dict()\n",
        "```"
      ]
    },
    {
      "cell_type": "markdown",
      "metadata": {
        "id": "ps5BCdWiwVmq"
      },
      "source": [
        "21. **Create a dictionary** `my_dict` from a list of keys and a list of values."
      ]
    },
    {
      "cell_type": "code",
      "metadata": {
        "colab": {
          "base_uri": "https://localhost:8080/"
        },
        "id": "ZSO8ZrzXwVFV",
        "outputId": "18e3bc11-a2f0-4f11-cae3-968f50c524c0"
      },
      "source": [
        "keys = ['brand','model','year']\n",
        "values = [\"Toyata\",\"Yaris\",1999]\n",
        "\n",
        "my_dict = None\n",
        "# start\n",
        "my_dict = dict(zip(keys,values))\n",
        "\n",
        "# end\n",
        "\n",
        "print(my_dict)"
      ],
      "execution_count": null,
      "outputs": [
        {
          "output_type": "stream",
          "name": "stdout",
          "text": [
            "{'brand': 'Toyata', 'model': 'Yaris', 'year': 1999}\n"
          ]
        }
      ]
    },
    {
      "cell_type": "markdown",
      "metadata": {
        "id": "WNww571WyURe"
      },
      "source": [
        "22. **Extract the keys and values** from a dictionary. Save the keys and the values in two separate lists `keys` and `values` and print these lists.\n",
        "\n",
        "Hint: Check the python function `keys` and `values`"
      ]
    },
    {
      "cell_type": "code",
      "metadata": {
        "colab": {
          "base_uri": "https://localhost:8080/"
        },
        "id": "GtEfBlIFwlcK",
        "outputId": "4d8aa2c0-4076-4234-f7cf-151dc39dbfa8"
      },
      "source": [
        "my_dict = {'name': 'amber', 'age': 26, 'gender':'female', 'job':'lawyer'}\n",
        "\n",
        "keys = None\n",
        "values = None\n",
        "# start\n",
        "keys = list(my_dict.keys())\n",
        "values = list(my_dict.values())\n",
        "# end\n",
        "\n",
        "print(keys)\n",
        "print(values)"
      ],
      "execution_count": null,
      "outputs": [
        {
          "output_type": "stream",
          "name": "stdout",
          "text": [
            "['name', 'age', 'gender', 'job']\n",
            "['amber', 26, 'female', 'lawyer']\n"
          ]
        }
      ]
    },
    {
      "cell_type": "markdown",
      "metadata": {
        "id": "ie_Yx4EDyh8z"
      },
      "source": [
        "23. We know that Amber's `\"height\"` is `165`. **Add this entry** in the dictionary `my_dict`. **Increment** the value of `age` by `1`. We also want the value of `'job'` to be `'doctor'` instead of `lawyer`. Update `my_dict` with these changes."
      ]
    },
    {
      "cell_type": "code",
      "metadata": {
        "colab": {
          "base_uri": "https://localhost:8080/"
        },
        "id": "AKDrexphx2uK",
        "outputId": "822363da-1e57-45c9-819a-eebf7f305b4c"
      },
      "source": [
        "# start\n",
        "my_dict[\"height\"] = 165\n",
        "my_dict[\"age\"] += 1\n",
        "my_dict[\"job\"] = \"doctor\"\n",
        "\n",
        "\n",
        "# end\n",
        "\n",
        "print(my_dict)"
      ],
      "execution_count": null,
      "outputs": [
        {
          "output_type": "stream",
          "name": "stdout",
          "text": [
            "{'name': 'amber', 'age': 27, 'gender': 'female', 'job': 'doctor', 'height': 165}\n"
          ]
        }
      ]
    },
    {
      "cell_type": "markdown",
      "metadata": {
        "id": "oIregNtoy2nA"
      },
      "source": [
        "24. **Merge** the two dictionaries `x` and `y` into a new dictionary `z`."
      ]
    },
    {
      "cell_type": "code",
      "metadata": {
        "colab": {
          "base_uri": "https://localhost:8080/"
        },
        "id": "CC4tz_ntywin",
        "outputId": "20b3fbf7-af54-40a4-9468-5b201c511585"
      },
      "source": [
        "x = {'a': 1, 'b': 2}\n",
        "y = {'c': 11, 'd':29}\n",
        "\n",
        "z = None\n",
        "# start\n",
        "x.update(y)\n",
        "z = x\n",
        "# end\n",
        "\n",
        "print(z)"
      ],
      "execution_count": null,
      "outputs": [
        {
          "output_type": "stream",
          "name": "stdout",
          "text": [
            "{'a': 1, 'b': 2, 'c': 11, 'd': 29}\n"
          ]
        }
      ]
    },
    {
      "cell_type": "markdown",
      "metadata": {
        "id": "--hXsZIzww3p"
      },
      "source": [
        "25. **Count the number of occurences** of each word in the given text. Save these occurences in a dictionary. The dictionary should have a word as a key, the value associated to this key should be the number of occurences of the word. \n",
        "\n",
        "Hint: First split the sentence into a list of words using the function we mentioned in Q19. Then, use a `for` loop to enumerate the words in sentence."
      ]
    },
    {
      "cell_type": "code",
      "metadata": {
        "colab": {
          "base_uri": "https://localhost:8080/"
        },
        "id": "lSyKvCmh1iXE",
        "outputId": "19084826-cb49-4afd-9b67-6734d94a23c1"
      },
      "source": [
        "text = \"you say goodbye and i say hello hello hello i don't know why you say goodbye i say hello hello hello i don't know why you say goodbye i say hello\"\n",
        "count_words = {}\n",
        "\n",
        "# start\n",
        "text_list = text.split()\n",
        "for i in text_list:\n",
        "  if i in count_words:\n",
        "    count_words[i] += 1\n",
        "  else:\n",
        "    count_words[i] = 1\n",
        "\n",
        "# end\n",
        "\n",
        "print(count_words)"
      ],
      "execution_count": null,
      "outputs": [
        {
          "output_type": "stream",
          "name": "stdout",
          "text": [
            "{'you': 3, 'say': 6, 'goodbye': 3, 'and': 1, 'i': 5, 'hello': 7, \"don't\": 2, 'know': 2, 'why': 2}\n"
          ]
        }
      ]
    },
    {
      "cell_type": "markdown",
      "metadata": {
        "id": "gwq4svfAzE_U"
      },
      "source": [
        "### **Functions**\n",
        "\n",
        "A function is a sequence of instructions that can be called with a name.\n",
        "\n",
        "First of all to indicate to the interpreter that you want to create a function, we use the keyword `def` followed by a name then parenthesis and then a double point. Between the parenthesis are the parameters, that we will use inside the function. It is possible that we do not have any parameter.\n",
        "\n",
        "Once you have done that, you can write the intructions. A function usually ends with `return`, but this is not always the case.\n",
        "\n",
        "For example:\n",
        "\n",
        "\n",
        "```\n",
        "def func(x):\n",
        "    print(\"The function is working!\")\n",
        "    return 5*x\n",
        "```\n",
        "\n",
        "Here, `x` is a parameter of the function. We used `return 5*x`. It means that if we wrote `a = func(x)`, then a would be equal to `5*x`. If there is no `return`, then we cannot save `func(x)` in a variable. In the execution cell, we will also see printed `'The function is working!'`\n",
        "\n",
        "You can also notice that there is a space before the keyword `return`, this is an indentation, i.e. a space that not only improves the reading of the function but also indicates that we are still in the function. When the requested action is no longer in the function, the text should no longer be indented. To indent text, you must press the `TAB` key on your keyboard."
      ]
    },
    {
      "cell_type": "markdown",
      "metadata": {
        "id": "20ag8kySy7L5"
      },
      "source": [
        "26. Create a function `my_function`. This function has no parameter, and only print \"Hello World\"."
      ]
    },
    {
      "cell_type": "code",
      "metadata": {
        "id": "yX7rFO3Byq-h",
        "colab": {
          "base_uri": "https://localhost:8080/"
        },
        "outputId": "18a4486d-680c-4aca-d6f7-ee07c9ffbe34"
      },
      "source": [
        "def my_function():\n",
        "  '''fill in your code below'''\n",
        "  # start\n",
        "  print(\"Hello World\")\n",
        "  # end\n",
        "\n",
        "## Testing: the function should print \"Hello World\"\n",
        "my_function()"
      ],
      "execution_count": null,
      "outputs": [
        {
          "output_type": "stream",
          "name": "stdout",
          "text": [
            "Hello World\n"
          ]
        }
      ]
    },
    {
      "cell_type": "markdown",
      "metadata": {
        "id": "P37QHfpwzksP"
      },
      "source": [
        "27. Create a function `simple_func` that takes one parameter `x`. This function should **return** `x+5`."
      ]
    },
    {
      "cell_type": "code",
      "metadata": {
        "colab": {
          "base_uri": "https://localhost:8080/"
        },
        "id": "aiNz9DnyzWYg",
        "outputId": "02076be5-30b4-4849-f956-46bb6f8b25ed"
      },
      "source": [
        "def simple_func(x):\n",
        "  '''fill in your code below'''\n",
        "  # start\n",
        "  return x+5\n",
        "  # end\n",
        "\n",
        "\n",
        "## Testing: `res` should equal to 15\n",
        "res = simple_func(10)\n",
        "print(res)"
      ],
      "execution_count": null,
      "outputs": [
        {
          "output_type": "stream",
          "name": "stdout",
          "text": [
            "15\n"
          ]
        }
      ]
    },
    {
      "cell_type": "markdown",
      "metadata": {
        "id": "CcszvjhJ3NyS"
      },
      "source": [
        "28. A palindrome is a word that can be read the same whether you read it from left to right or from right to left, such as kayak or madam. Create a function `isPalindrome` that takes in parameter the string `s`. If the word is a palindrome, print `\"the word is a palindrome\"`. If not, print `\"the word is not a palindrome\"`.\n",
        "\n",
        "Hint: You can use a `for` loop, but this is not necessary."
      ]
    },
    {
      "cell_type": "code",
      "metadata": {
        "id": "9tIcViXF1oWZ",
        "colab": {
          "base_uri": "https://localhost:8080/"
        },
        "outputId": "3cc641eb-959b-48c8-b1df-328b25cbef17"
      },
      "source": [
        "def isPalindrome(s):\n",
        "    '''fill in your code below'''\n",
        "    # start\n",
        "    length_word = len(s)\n",
        "    for i in range(len(s)//2):\n",
        "      if s[i] != s[len(s) - 1 - i]:\n",
        "        print(\"the word is not a palindrome\")\n",
        "        return\n",
        "    print(\"the word is a palindrome\")\n",
        "    # end\n",
        "\n",
        "## Testing: the function should print \"the word is a palindrome\".\n",
        "isPalindrome(\"madam\")"
      ],
      "execution_count": null,
      "outputs": [
        {
          "output_type": "stream",
          "name": "stdout",
          "text": [
            "the word is a palindrome\n"
          ]
        }
      ]
    },
    {
      "cell_type": "markdown",
      "metadata": {
        "id": "9VKDaet83gNg"
      },
      "source": [
        "29. An algorithm is said to be recursive if, at some point, it calls itself. Write a **recursive** function `factorial` that takes in argument an integer `k`. The function will return the number $k! = 1 \\times 2 \\times ... \\times k$."
      ]
    },
    {
      "cell_type": "code",
      "metadata": {
        "colab": {
          "base_uri": "https://localhost:8080/"
        },
        "id": "qhXtTufX3bOf",
        "outputId": "4267f75a-8d44-4774-f2b5-6a2cd342edb7"
      },
      "source": [
        "def factorial(k):\n",
        "  '''fill in your code below'''\n",
        "  # start\n",
        "  if k == 1:\n",
        "    return 1\n",
        "  else:\n",
        "    return k * factorial(k-1)\n",
        "\n",
        "  \n",
        "  # end\n",
        "\n",
        "\n",
        "## Testing: `res` should equal to 720.\n",
        "res = factorial(6)\n",
        "print(res)"
      ],
      "execution_count": null,
      "outputs": [
        {
          "output_type": "stream",
          "name": "stdout",
          "text": [
            "720\n"
          ]
        }
      ]
    },
    {
      "cell_type": "markdown",
      "metadata": {
        "id": "k1l62Azi5JOl"
      },
      "source": [
        "30. Create a function `find_max` that takes in argument a list `list1`. This function shall find the maximum of a list and the index at which this maximum is reached. You **must not** use the python function `max()`. This function return two results: the maximum and its index in the list.\n",
        "\n",
        "Hint: You have to use a `for` loop."
      ]
    },
    {
      "cell_type": "code",
      "source": [
        "def find_max(list1):\n",
        "  '''fill in your code below'''\n",
        "  # start\n",
        "  reference = [list1[0],0]\n",
        "  for i in range(1,len(list1)):\n",
        "    if list1[i] > reference[0]:\n",
        "      reference[0] = list1[i]\n",
        "      reference[1] = i\n",
        "  return (reference[0], reference[1])\n",
        "\n",
        "\n",
        "\n",
        "  # end\n",
        "\n",
        "## Testing: max_value should equal to 17; and max_index should equal to 4\n",
        "max_value, max_index = find_max([-5,7,9,5,17,8,9])\n",
        "print(max_value, max_index)"
      ],
      "metadata": {
        "id": "pG6STx0W3XXg",
        "colab": {
          "base_uri": "https://localhost:8080/"
        },
        "outputId": "1be6a551-9fb0-4c06-f5d4-a736133246af"
      },
      "execution_count": 7,
      "outputs": [
        {
          "output_type": "stream",
          "name": "stdout",
          "text": [
            "17 4\n"
          ]
        }
      ]
    }
  ]
}