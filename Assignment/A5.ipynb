{
  "cells": [
    {
      "cell_type": "markdown",
      "metadata": {
        "id": "8yRj6Htiebfn"
      },
      "source": [
        "# Programming Assignment-5\n",
        "\n",
        "---\n",
        "\n",
        "## **Linear Regression and Gradient Descent**\n",
        "\n",
        "**Objective:**\n",
        "\n",
        "The objective of this assignment is to implement Linear Regression and Gradient Descent algorithms in python. For this assignment, we will use Boston housing dataset. The task is to predict the price of the house in the suburbs of Boston city, given the details of the property. After completing this assignment, you should be familiar with the following:\n",
        "\n",
        "*   How to load the dataset in python?\n",
        "\n",
        "*   How to normalize the dataset for better results?\n",
        "\n",
        "*   How to split the dataset into training and testing set?\n",
        "\n",
        "*   How to compute a RMSE between the predicted value and the actual value for the given data sample?\n",
        "\n",
        "*   How to implement the Gradient Descent algorithm to learn the optimal parameters of linear regression from the training data?\n",
        "\n",
        "*   How to apply linear regression algorithm to predict the housing price in Boston city for the new data using the above optimal parameters?\n",
        "\n",
        "\n",
        "**Dataset:**\n",
        "\n",
        "You can download the dataset from here: https://archive.ics.uci.edu/ml/machine-learning-databases/housing/. Each instance in this dataset describes the attributes of a housing property in Boston suburb and the task is to predict the house prices in thousands of dollars. There are 13 numerical attributes with varying scales describing the housing properties of suburbs. The readme file in the dataset provides details on the dataset. Read this file before implementing your algorithm to check whether you need to do any data preprocessing steps. The 13 attributes of each property and the housing price (in $1000's) are given as follows:\n",
        "1. CRIM     : per capita crime rate by town\n",
        "2. ZN       : proportion of residential land zoned for lots over 25,000 sq.ft.\n",
        "3. INDUS    : proportion of non-retail business acres per town\n",
        "4. CHAS     : Charles River dummy variable (= 1 if tract bounds river; 0 otherwise)\n",
        "5. NOX      : nitric oxides concentration (parts per 10 million)\n",
        "6. RM       : average number of rooms per dwelling\n",
        "7. AGE      : proportion of owner-occupied units built prior to 1940\n",
        "8. DIS      : weighted distances to five Boston employment centres\n",
        "9. RAD      : index of accessibility to radial highways\n",
        "10. TAX     : full-value property-tax rate per \\$10,000\n",
        "11. PTRATIO : pupil-teacher ratio by town\n",
        "12. B       : 1000 (Bk - 0.63) ^ 2 where Bk is the proportion of blacks by town\n",
        "13. LSTAT   : % lower status of the population\n",
        "14. MEDV    : Median value of owner-occupied homes in \\$1000's\n",
        "\n",
        "**Deliverables:**\n",
        "\n",
        "*   This colab notebook with python codes\n",
        "\n",
        "Total Marks: 30.\n",
        "---\n"
      ]
    },
    {
      "cell_type": "markdown",
      "metadata": {
        "id": "JA3DODTROxzG"
      },
      "source": [
        "## **Q0. Download the Dataset:**\n",
        "\n",
        "Before getting started, download the dataset from https://archive.ics.uci.edu/ml/machine-learning-databases/housing/housing.data and upload it to the `/content/` directory in the Colab environment."
      ]
    },
    {
      "cell_type": "markdown",
      "metadata": {
        "id": "8DANbMtO1Bqx"
      },
      "source": [
        "##**Q1. Load the Dataset:** \n",
        "\n",
        "You need to implement this function to load the dataset from the `house.data` file and return the `dataset` numpy arrays. The 14 columns of the `dataset` correspond to the 13 attributes of housing property `X` and also the housing price value `y`. (3 marks)"
      ]
    },
    {
      "cell_type": "code",
      "execution_count": null,
      "metadata": {
        "id": "Og4vGG41a3tr"
      },
      "outputs": [],
      "source": [
        "import numpy as np\n",
        "import math\n",
        "\n",
        "# to display the float numbers with 2 decimal points and supress the use of \n",
        "# scientific notations for small numbers\n",
        "# np.set_printoptions(precision=2, suppress=True)\n",
        "\n",
        "# function to load the wine dataset into dataset numpy arrays\n",
        "\n",
        "def loadData(filename):\n",
        "  '''\n",
        "  filename: string, the path to the house.data file\n",
        "  RETURN\n",
        "    dataset: numpy array, shape = [N, 14]\n",
        "  '''\n",
        "  dataset = None\n",
        "  ## start your code here\n",
        "  lst = []\n",
        "  with open(filename) as f:\n",
        "    lines = f.readlines()\n",
        "  for row in lines:\n",
        "    innerlst = []\n",
        "    string = \"\"\n",
        "    for i in row:\n",
        "      #print(i)\n",
        "      if i != \" \":\n",
        "        string += i\n",
        "      else:\n",
        "        if string == \"\":\n",
        "          continue\n",
        "        innerlst.append((string))\n",
        "        string = \"\"\n",
        "    innerlst.append(string)\n",
        "    lst.append(innerlst)\n",
        "\n",
        "  dataset = np.array(lst, dtype=np.float64)\n",
        "\n",
        "  ## end\n",
        "  return dataset"
      ]
    },
    {
      "cell_type": "markdown",
      "metadata": {
        "id": "aSFX3RVWzBJD"
      },
      "source": [
        "When you run this code, you should get the expected output as shown below:\n"
      ]
    },
    {
      "cell_type": "code",
      "execution_count": null,
      "metadata": {
        "colab": {
          "base_uri": "https://localhost:8080/"
        },
        "id": "3l0xTXhg4zfg",
        "outputId": "a08f0a76-6e70-4c6e-fabe-cdc123ea2111"
      },
      "outputs": [
        {
          "output_type": "stream",
          "name": "stdout",
          "text": [
            "(506, 14)\n",
            "[3.61352356e+00 1.13636364e+01 1.11367787e+01 6.91699605e-02\n",
            " 5.54695059e-01 6.28463439e+00 6.85749012e+01 3.79504269e+00\n",
            " 9.54940711e+00 4.08237154e+02 1.84555336e+01 3.56674032e+02\n",
            " 1.26530632e+01 2.25328063e+01]\n"
          ]
        }
      ],
      "source": [
        "#driver program to test the loadWineData() function\n",
        "#Note that y should be the 14th attribute in X numpy array  \n",
        "\n",
        "filename = \"/content/housing.data\" \n",
        "dataset = loadData(filename)\n",
        "\n",
        "print(dataset.shape)\n",
        "print(np.mean(dataset, axis=0))"
      ]
    },
    {
      "cell_type": "markdown",
      "metadata": {
        "id": "PkOB2VCV01nz"
      },
      "source": [
        "Expected output:\n",
        "```\n",
        "(506, 14)\n",
        "[3.61352356e+00 1.13636364e+01 1.11367787e+01 6.91699605e-02\n",
        " 5.54695059e-01 6.28463439e+00 6.85749012e+01 3.79504269e+00\n",
        " 9.54940711e+00 4.08237154e+02 1.84555336e+01 3.56674032e+02\n",
        " 1.26530632e+01 2.25328063e+01]\n",
        "```\n"
      ]
    },
    {
      "cell_type": "markdown",
      "metadata": {
        "id": "6so9ooq3092o"
      },
      "source": [
        "##**Q2. Normalize Data:**\n",
        "\n",
        "Code implementation: The function `normalize` normalizes only the housing attributes, i.e., the first 13 columns in the `dataset` numpy array. The 14th attribute (i.e., `y`) should remain unchanged. Ask yourself the question: \"why do we normalize the housing attributes?\" (3 marks)\n",
        "\n",
        "Note: The implementation need not use for-loops, but we accept answers that include one or two for-loops."
      ]
    },
    {
      "cell_type": "code",
      "execution_count": null,
      "metadata": {
        "colab": {
          "base_uri": "https://localhost:8080/"
        },
        "id": "PxoCoHXP42T1",
        "outputId": "cd0f2c01-a9e3-43e5-b382-98b750aa2373"
      },
      "outputs": [
        {
          "output_type": "stream",
          "name": "stdout",
          "text": [
            "(506, 14)\n",
            "[ 0.0405441   0.11363636  0.39137752  0.06916996  0.34916679  0.52186901\n",
            "  0.67636355  0.24238128  0.37171335  0.42220831  0.62292911  0.89856783\n",
            "  0.30140903 22.53280632]\n"
          ]
        }
      ],
      "source": [
        "# code to normalize only the input features from \n",
        "# the dataset (i.e., first 13 attributes) and the output y (i.e., 14th attribute)\n",
        "# remains unchanged\n",
        "\n",
        "def normalize(dataset):\n",
        "  '''\n",
        "  The function that normalizes the first 13 attributes in the numpy array but leaves the 14th attributes unchanged\n",
        "  dataset: numpy array, shape = [N, D]\n",
        "  RETURN\n",
        "    dataset_normalized, numpy array, shape = [N, D]\n",
        "  '''\n",
        "  dataset_normalized = np.copy(dataset)\n",
        "  ## start your code here\n",
        "  lst = np.array([])\n",
        "  for i in range(13):\n",
        "    col = dataset_normalized[:,i]\n",
        "    max = np.max(col)\n",
        "    min = np.min(col)\n",
        "    col = (col - min) / (max-min)\n",
        "    for j in range(len(col)):\n",
        "      dataset_normalized[j][i] = col[j]\n",
        "\n",
        "  ## end\n",
        "  return dataset_normalized\n",
        "\n",
        "dataset_normalized = normalize(dataset)\n",
        "print(dataset_normalized.shape)\n",
        "print(np.mean(dataset_normalized,axis=0))"
      ]
    },
    {
      "cell_type": "markdown",
      "metadata": {
        "id": "DvMVe-x3MkgU"
      },
      "source": [
        "Expected output:\n",
        "```\n",
        "(506, 14)\n",
        "[ 0.0405441   0.11363636  0.39137752  0.06916996  0.34916679  0.52186901\n",
        "  0.67636355  0.24238128  0.37171335  0.42220831  0.62292911  0.89856783\n",
        "  0.30140903 22.53280632]\n",
        "```"
      ]
    },
    {
      "cell_type": "markdown",
      "metadata": {
        "id": "2_RSjrhbRHTt"
      },
      "source": [
        "## **Q3. Adding Bias**\n",
        "\n",
        "Code implementation: The `addBias` function adds the bias input `1` to the first column of all the data samples (i.e., rows) in the dataset. (2 marks)"
      ]
    },
    {
      "cell_type": "code",
      "execution_count": null,
      "metadata": {
        "colab": {
          "base_uri": "https://localhost:8080/"
        },
        "id": "2cEDfBaM46PT",
        "outputId": "26297637-46f5-497c-9550-1b81a8430f6d"
      },
      "outputs": [
        {
          "output_type": "stream",
          "name": "stdout",
          "text": [
            "(506, 15)\n",
            "[ 1.          0.01399878  0.          0.28152493  0.          0.31481481\n",
            "  0.38493964  0.98043254  0.24264111  0.13043478  0.22900763  0.89361702\n",
            "  0.9487367   0.53228477 13.6       ]\n"
          ]
        }
      ],
      "source": [
        "def addBias(dataset):\n",
        "  '''\n",
        "  X: numpy array, shape = [N,D]\n",
        "  RETURN\n",
        "    XX: numpy array, shape = [N, D+1]\n",
        "  '''\n",
        "  dataset_ones = None\n",
        "  dataset_ones = np.copy(dataset)\n",
        "  dataset_ones = np.insert(dataset_ones, 0, 1, axis=1)\n",
        "\n",
        "  ## end\n",
        "  return dataset_ones\n",
        "\n",
        "dataset_ones = addBias(dataset_normalized)\n",
        "print(dataset_ones.shape)\n",
        "print(dataset_ones[20])"
      ]
    },
    {
      "cell_type": "markdown",
      "metadata": {
        "id": "Hg0PLrsUSFt3"
      },
      "source": [
        "Expected output:\n",
        "```\n",
        "(506, 15)\n",
        "[ 1.          0.01399878  0.          0.28152493  0.          0.31481481\n",
        "  0.38493964  0.98043254  0.24264111  0.13043478  0.22900763  0.89361702\n",
        "  0.9487367   0.53228477 13.6       ]\n",
        "```"
      ]
    },
    {
      "cell_type": "markdown",
      "metadata": {
        "id": "4EEdmQoxyQcF"
      },
      "source": [
        "##**Q4. Splitting Dataset:**\n",
        "\n",
        "Code implementation: The `splitDataset` function splits the dataset into: 1) the training set for training the gradient descent algorithm; and 2) the testing set for evaluating the algorithm's performance. The training set should include the first 80% (i.e., first 404 rows) of the dataset and the testing set should include the remaining 20% of the dataset. The `splitDataset` function also splits the corresponding `y` attribute housing price from other attributes in the `dataset`, which will be used later as the output or target value. (3 marks)"
      ]
    },
    {
      "cell_type": "code",
      "execution_count": null,
      "metadata": {
        "colab": {
          "base_uri": "https://localhost:8080/"
        },
        "id": "VwUCeGNR4-MN",
        "outputId": "043b4897-7f9c-474b-ed2e-bafca599686a"
      },
      "outputs": [
        {
          "output_type": "stream",
          "name": "stdout",
          "text": [
            "(404, 14) (102, 14) (404, 1) (102, 1)\n"
          ]
        }
      ],
      "source": [
        "#insert the bias input input into X array\n",
        "\n",
        "# Get Training (404) and Tesing (102) set\n",
        "def splitDataset(dataset):\n",
        "  '''\n",
        "  dataset: numpy array, shape = [N, D]\n",
        "  RETURN\n",
        "    train_X: numpy array, shape = [int(N * 0.8), D]\n",
        "    test_X: numpy array, shape = [N-int(N * 0.8), D]\n",
        "    train_y: numpy array, shape = [int(N * 0.8), 1]\n",
        "    test_y: numpy array, shape = [N-int(N * 0.8), 1]\n",
        "  '''\n",
        "  train_X, test_X = None, None\n",
        "  train_y, test_y = None, None\n",
        "  \n",
        "  ## start your code here\n",
        "  length = (len(dataset) // 5) * 4 # 4/5\n",
        "  train = dataset[:length]\n",
        "  test = dataset[length:]\n",
        "\n",
        "  train_X = dataset[:length, :14]\n",
        "  train_y = dataset[:length, 14]\n",
        "  train_y = train_y.reshape(length,1)\n",
        "\n",
        "  test_X = dataset[length:, :14]\n",
        "  test_y = dataset[length:, 14]\n",
        "  test_y = test_y.reshape(len(dataset)-length,1)\n",
        "\n",
        "  ## end \n",
        "  return train_X, test_X, train_y, test_y\n",
        "\n",
        "train_X, test_X, train_y, test_y = splitDataset(dataset_ones)\n",
        "print(train_X.shape, test_X.shape, train_y.shape, test_y.shape)"
      ]
    },
    {
      "cell_type": "markdown",
      "metadata": {
        "id": "oWp5OQqCT-Ek"
      },
      "source": [
        "Expected output:\n",
        "```\n",
        "(404, 14) (102, 14) (404, 1) (102, 1)\n",
        "```"
      ]
    },
    {
      "cell_type": "markdown",
      "metadata": {
        "id": "nOCWb-ksNZ8_"
      },
      "source": [
        "##**Q5. RMSE function:**\n",
        "\n",
        "Code Implementation: Given input `X`, the `RMSEFunction` will \n",
        "\n",
        "* compute the `predicted_y` value with a linear regression model of the weight `theta` (1 mark); \n",
        "* compute the root mean squared error (RMSE) between the actual `y` value (from the dataset) and the `predicted_y` value (2 marks). \n",
        "\n",
        "Note: Vectorization is required for your implementation. This function should not use for-loops.\n",
        "\n",
        "*Hint: Use np.dot for matrix multiplication*"
      ]
    },
    {
      "cell_type": "code",
      "execution_count": null,
      "metadata": {
        "id": "XhOLIxGHH6KT"
      },
      "outputs": [],
      "source": [
        "## function to compute the error function between actual y and predicted-y values\n",
        "def RMSEFunction(X, theta, y):\n",
        "  '''\n",
        "  X: numpy array, shape = [N, D]\n",
        "  theta: numpy array, shape = [D, 1]\n",
        "  y: numpy array, shape = [N, 1]\n",
        "  RETURN\n",
        "    loss: float value\n",
        "  '''\n",
        "  loss = None\n",
        "  ## start your code here\n",
        "  predicted_y = np.dot(X, theta)\n",
        "  diff = (predicted_y - y)**2\n",
        "  \n",
        "  loss = sum(diff) / len(diff)\n",
        "  loss = math.sqrt(loss)\n",
        "  \n",
        "  ## end \n",
        "  return loss"
      ]
    },
    {
      "cell_type": "markdown",
      "metadata": {
        "id": "askXs6-iN0NY"
      },
      "source": [
        "When you run this code, you should get the expected output as shown below:"
      ]
    },
    {
      "cell_type": "code",
      "execution_count": null,
      "metadata": {
        "colab": {
          "base_uri": "https://localhost:8080/"
        },
        "id": "q_mAun-05M6r",
        "outputId": "bd160228-503a-4933-9d8a-9aedf0631bd8"
      },
      "outputs": [
        {
          "output_type": "stream",
          "name": "stdout",
          "text": [
            "24.334069059572574\n"
          ]
        }
      ],
      "source": [
        "N = dataset_ones.shape[1]\n",
        "print(RMSEFunction(dataset_ones[:,0:N-1],np.zeros((N-1,1)),dataset_ones[:,N-1:N]))"
      ]
    },
    {
      "cell_type": "markdown",
      "metadata": {
        "id": "nG9QH9tBVoOb"
      },
      "source": [
        "Expected output:\n",
        "```\n",
        "24.334069059572577\n",
        "```"
      ]
    },
    {
      "cell_type": "markdown",
      "metadata": {
        "id": "eR0D8v-2G0e7"
      },
      "source": [
        "##**Q6. Gradient Descent Algorithm:**\n",
        "\n",
        "Code Implementation: The `gradientDescent()` function (10 marks): \n",
        "\n",
        "* takes the following inputs: train_data, train_y, test_data, test_y, L (i.e., learning rate), and num_iter (i.e., maximum number of iterations).\n",
        "* returns the optimal value of parameters, and history of loss on training data and testing data respectively.\n",
        "* history of loss is the RMSE between the predicted `y` and the actual `y` in each iteration. You need to compute and store the losses for training data and testing data, respectively.\n",
        "\n",
        "The optimal parameters are those that minimize the loss on the training data. To find the optimal parameters, we do the followings in every iteration of gradient descent:  \n",
        "\n",
        "* predict the `y` value using the current parameter `theta` and the housing attributes `X`, \n",
        "* calculate the gradient of the loss function with respect to the training data, and \n",
        "* update the parameter `theta` with gradient descent.\n",
        "\n",
        "The algorithm will stop when reaching the maximum iteration `num_iter`. You should look for the equations in the slides before you start implementing.\n",
        "\n",
        "Note: Vectorization method is required in your implementation. This function can be implemented without for-loops, but we accept answers that use one for-loop.\n"
      ]
    },
    {
      "cell_type": "code",
      "execution_count": null,
      "metadata": {
        "id": "ptsENRpDY1Yg"
      },
      "outputs": [],
      "source": [
        "# function to get optimal parameters using gradient descent\n",
        "def gradientDescent(train_X, train_y, test_X, test_y, L, num_iter):  \n",
        "  '''\n",
        "  train_X: numpy array, shape = [N_train, D]\n",
        "  test_X: numpy array, shape = [N_test, D]\n",
        "  train_y: numpy array, shape = [N_train, 1]\n",
        "  test_y: numpy array, shape = [N_test, 1]\n",
        "  L: float value\n",
        "  num_iter: integer\n",
        "  RETURN\n",
        "    opt_theta: numpy array, shape = [D, 1]\n",
        "    loss_history: numpy array, shape = [2, num_iter]\n",
        "  '''\n",
        "  N_train, D = train_X.shape # number of training samples, number of features\n",
        "  theta = np.zeros((D,1)) # the parameters of the linear regression model  --> W vector\n",
        "  opt_theta = None # the optimized parameters on the training data \n",
        "\n",
        "  # record loss of each iteration - both rmse between training data and target\n",
        "  # data as well as between testing data and target data.\n",
        "  loss_history = np.zeros((2,num_iter))\n",
        "  test_loss = RMSEFunction(test_X, theta, test_y)\n",
        "  \n",
        "  # Gradient descent steps\n",
        "\n",
        "  for i in range(num_iter):#num_iter:\n",
        "\n",
        "    prediction = np.dot(train_X, theta)\n",
        "    diff = (train_y - prediction)\n",
        "\n",
        "    theta = theta +((1/len(train_X))*L*np.dot(train_X.T,diff))\n",
        "\n",
        "    ## end of your code\n",
        "\n",
        "    loss_history[0,i] = RMSEFunction(train_X, theta, train_y)\n",
        "    loss_history[1,i] = RMSEFunction(test_X, theta, test_y)\n",
        "  \n",
        "    if loss_history[1,i] < test_loss: # store the optimal parameter\n",
        "        test_loss = loss_history[1,i]\n",
        "        opt_theta = np.copy(theta)\n",
        "  #print(opt_theta)\n",
        "  #print(loss_history)\n",
        "  return [opt_theta, loss_history]"
      ]
    },
    {
      "cell_type": "markdown",
      "source": [],
      "metadata": {
        "id": "ftKZTnP_Dwcf"
      }
    },
    {
      "cell_type": "markdown",
      "metadata": {
        "id": "WaG9SgXAIHTz"
      },
      "source": [
        "When you run this code, you should get the expected output as shown below:"
      ]
    },
    {
      "cell_type": "code",
      "execution_count": null,
      "metadata": {
        "colab": {
          "base_uri": "https://localhost:8080/"
        },
        "id": "qiQng79P5TxH",
        "outputId": "fd33363f-c099-4739-9d11-8575cf7521db"
      },
      "outputs": [
        {
          "output_type": "stream",
          "name": "stdout",
          "text": [
            "[[ 9.93008179 -1.09184095  4.62616462 -1.4178688   3.02227804 -0.43412238\n",
            "  11.71497134  1.5884702   2.62489101 -0.92561114 -1.72612043 -1.62906862\n",
            "   9.52457346 -5.8227015 ]]\n",
            "4.14341393113359\n"
          ]
        }
      ],
      "source": [
        "opt_theta, loss_history = gradientDescent(train_X, train_y, test_X, test_y, 0.01, 5000)\n",
        "print(opt_theta.T)\n",
        "print(RMSEFunction(test_X, opt_theta, test_y))"
      ]
    },
    {
      "cell_type": "markdown",
      "metadata": {
        "id": "88UhqfFGISOv"
      },
      "source": [
        "\n",
        "Expected output:\n",
        "\n",
        "```\n",
        "[[ 9.93008179 -1.09184095  4.62616462 -1.4178688   3.02227804 -0.43412238\n",
        "  11.71497134  1.5884702   2.62489101 -0.92561114 -1.72612043 -1.62906862\n",
        "   9.52457346 -5.8227015 ]]\n",
        "4.143413931133588\n",
        "```"
      ]
    },
    {
      "cell_type": "markdown",
      "metadata": {
        "id": "YDGdGQ9k1Z7t"
      },
      "source": [
        "**Plotting the learning curve:**\n",
        "\n",
        "When you run the following codes, you should see the graph plotted as shown below:\n",
        "\n",
        "![graph image here (LRGDgrph1.png)](https://drive.google.com/uc?export=view&id=1-MJzt4mKpwUYHYGfSkmdcqnQdZF6rs7a)"
      ]
    },
    {
      "cell_type": "code",
      "execution_count": null,
      "metadata": {
        "id": "AZDS87u35W1-",
        "colab": {
          "base_uri": "https://localhost:8080/",
          "height": 295
        },
        "outputId": "cd8e10df-27e1-4364-eede-d935e0e5ae58"
      },
      "outputs": [
        {
          "output_type": "display_data",
          "data": {
            "text/plain": [
              "<Figure size 432x288 with 1 Axes>"
            ],
            "image/png": "[encoded data removed]"
          },
          "metadata": {
            "needs_background": "light"
          }
        }
      ],
      "source": [
        "# Plot the learning curve\n",
        "import matplotlib.pyplot as plt\n",
        "\n",
        "x_values = range(1,loss_history.shape[1]+1)\n",
        "plt.plot(x_values, loss_history[0], 'b', label=\"Traning Loss\")\n",
        "plt.plot(x_values, loss_history[1], 'r', label=\"Testing Loss\")\n",
        "plt.title(\"Training and Testing Loss\")\n",
        "plt.xlabel(\"number of iterations\")\n",
        "plt.ylabel(\"Loss\")\n",
        "plt.legend()\n",
        "\n",
        "plt.show()"
      ]
    },
    {
      "cell_type": "markdown",
      "metadata": {
        "id": "0hPT5FjK7Nb_"
      },
      "source": [
        "## **Q7. Prediction using Linear Regression model:**"
      ]
    },
    {
      "cell_type": "markdown",
      "metadata": {
        "id": "FIOuTHUQsRQP"
      },
      "source": [
        "In this section, you will predict the housing price for the new data below (i.e., unknown to the model) using the optimal parameters `opt_theta` that you have computed in Q6. You will need to:\n",
        "\n",
        "* predict housing price for the new test data using the optimal parameters computed in Q6; (2 marks)\n",
        "* compute the RMSE between the predicted-y and actual-y values for this test data. (1 mark)"
      ]
    },
    {
      "cell_type": "code",
      "execution_count": null,
      "metadata": {
        "id": "Qpf5a1HasS6s"
      },
      "outputs": [],
      "source": [
        "# the test data below is already normalzied\n",
        "new_dataset = np.asarray([[1.000,0.001,0.125,0.272,0.000,0.286,0.470,0.656,0.403,0.174,0.237,0.277,0.997,0.295,22.900],\n",
        "[1.000,0.002,0.000,0.236,0.000,0.130,0.426,0.313,0.361,0.087,0.088,0.564,1.000,0.343,20.000],\n",
        "[1.000,0.001,0.125,0.206,0.000,0.049,0.390,0.349,0.488,0.130,0.302,0.670,1.000,0.313,17.400],\n",
        "[1.000,0.001,0.000,0.148,0.000,0.132,0.588,0.548,0.301,0.087,0.115,0.628,0.988,0.132,26.600],\n",
        "[1.000,0.001,0.000,0.297,0.000,0.278,0.492,0.848,0.090,0.174,0.376,0.883,0.977,0.341,20.400],\n",
        "[1.000,0.004,0.000,0.786,0.000,0.492,0.555,0.989,0.090,0.130,0.477,0.915,0.995,0.300,19.200],\n",
        "[1.000,0.021,0.000,0.701,1.000,0.453,0.813,0.981,0.083,0.174,0.412,0.223,0.982,0.005,35.000],\n",
        "[1.000,0.001,0.000,0.073,0.000,0.212,0.391,0.895,0.169,0.087,0.011,0.553,0.985,0.338,26.400],\n",
        "[1.000,0.003,0.000,0.371,0.000,0.214,0.530,0.511,0.293,0.130,0.172,0.638,0.995,0.255,24.400],\n",
        "[1.000,0.005,0.000,0.210,0.000,0.245,0.573,0.191,0.204,0.304,0.229,0.511,0.958,0.056,31.500],\n",
        "[1.000,0.004,0.000,0.346,0.000,0.327,0.541,0.662,0.219,0.130,0.223,0.617,0.996,0.238,23.100],\n",
        "[1.000,0.001,0.000,0.102,0.000,0.154,0.442,0.236,0.371,0.130,0.464,0.457,0.964,0.227,19.300],\n",
        "[1.000,0.000,0.850,0.135,0.000,0.091,0.566,0.255,0.673,0.130,0.313,0.564,0.989,0.128,23.100],\n",
        "[1.000,0.043,0.000,0.647,0.000,0.792,0.515,0.908,0.106,1.000,0.914,0.809,0.883,0.344,19.900],\n",
        "[1.000,0.125,0.000,0.647,0.000,0.582,0.258,1.000,0.004,1.000,0.914,0.809,1.000,0.912,13.800],\n",
        "[1.000,0.103,0.000,0.647,0.000,0.648,0.378,1.000,0.041,1.000,0.914,0.809,1.000,0.603,11.300],\n",
        "[1.000,0.097,0.000,0.647,0.000,0.634,0.504,0.924,0.060,1.000,0.914,0.809,1.000,0.371,13.800],\n",
        "[1.000,0.108,0.000,0.647,0.000,0.634,0.545,1.000,0.046,1.000,0.914,0.809,0.948,0.513,12.100],\n",
        "[1.000,0.211,0.000,0.647,0.000,0.436,0.204,1.000,0.039,1.000,0.914,0.809,0.072,0.901,20.900],\n",
        "[1.000,0.083,0.000,0.647,0.000,0.605,0.504,0.774,0.073,1.000,0.914,0.809,0.243,0.546,11.000]]\n",
        ")\n",
        "\n",
        "new_X = new_dataset[:,0:14]\n",
        "new_y = new_dataset[:,14:15]"
      ]
    },
    {
      "cell_type": "markdown",
      "metadata": {
        "id": "BUULGdyIzq9c"
      },
      "source": [
        "You will enter your code below:"
      ]
    },
    {
      "cell_type": "code",
      "execution_count": null,
      "metadata": {
        "id": "bzyfcWj85kSJ",
        "colab": {
          "base_uri": "https://localhost:8080/",
          "height": 312
        },
        "outputId": "23fd87e5-5f15-412f-d18c-366e176b3317"
      },
      "outputs": [
        {
          "output_type": "stream",
          "name": "stdout",
          "text": [
            "5.335564546533\n"
          ]
        },
        {
          "output_type": "display_data",
          "data": {
            "text/plain": [
              "<Figure size 432x288 with 1 Axes>"
            ],
            "image/png": "[encoded data removed]"
          },
          "metadata": {
            "needs_background": "light"
          }
        }
      ],
      "source": [
        "# compute the predicted housing price for the new test data using the optimal parameters computed in Q6 (2 marks)\n",
        "predicted_y = None\n",
        "## start your code here\n",
        "predicted_y = np.dot(new_X,opt_theta)\n",
        "\n",
        "\n",
        "## end\n",
        "\n",
        "# compute the RMSE loss between the predicted-y and actual-y values for this test data (1 mark)\n",
        "rmse_loss = None\n",
        "## Start your code here\n",
        "rmse_loss = RMSEFunction(new_X, opt_theta, new_y)\n",
        "\n",
        "\n",
        "## end\n",
        "print(rmse_loss)\n",
        "    \n",
        "#plot the grpah showing the predicted-y values and the actual-y values\n",
        "x_values = range(1,predicted_y.shape[0]+1)\n",
        "plt.plot(x_values, new_y, 'b', label=\"actual - y\")\n",
        "plt.plot(x_values, predicted_y, 'r', label=\"predicted - y\")\n",
        "plt.title(\"Actual-y and predicted-y values\")\n",
        "plt.xlabel(\"Test data sample\")\n",
        "plt.ylabel(\"Housing Price in 1000's\")\n",
        "plt.legend()\n",
        "plt.show()"
      ]
    },
    {
      "cell_type": "markdown",
      "metadata": {
        "id": "PJ8EBPncqI0w"
      },
      "source": [
        "Expected Output:\n",
        "\n",
        "When you run the above code, you should get the graph as shown here:\n",
        "\n",
        "`5.335564546532999`\n",
        "\n",
        "![graph image here (LRGDgrph2.png)](https://drive.google.com/uc?export=view&id=16jCCxZe2nNhsDllafNwpbMd93cy-MSgv)"
      ]
    },
    {
      "cell_type": "markdown",
      "metadata": {
        "id": "1lcW8p2hq4jf"
      },
      "source": [
        "## **Q8. What did you learn from this assignment?**\n",
        "\n",
        "In this question, you need to list out the difficulties and how you overcome them when doing the assignment. You can also talk about what you have learned and how do you think we should improve the assignment here. This section is graded. Please type the comments in the text cell below and list them in bullet points. (3 marks)"
      ]
    },
    {
      "cell_type": "markdown",
      "metadata": {
        "id": "iN_AWVpzq92u"
      },
      "source": [
        "Please enter your comments here by double-clicking on this text cell:\n",
        "* comment 1: The challenging part of the assignment was creating the gradient descent algorithm. The difficulty was in translating the math into code. For those who did not take linear algebra and/or coding before I think they may find this assignment extremely difficult. To finish the assignment, I had to do lots of debugging and had many print statement lying around to understand what the code is doing. Though I admit that I made a lot of careless mistakes as well which led to the fustration.\n",
        "\n",
        "* comment 2: I find that the use of numpy very useful, this will help me in the future when I analyze data for other modules or work. Though sometimes I cannot memorize the exact numpy methods that I need for this specific function (as there are a lot), so I resort to traditional methods like indexing and looping, which I have done in this and past assignments. So it would be helpful to drop some hints on which numpy methods can be used to solve these questions. E.g qn2\n",
        "\n",
        "* etc: From the gradient descent, I learned the inner workings of how a model is optimized. This will be useful for me in the future as a data science undergrad.\n",
        "\n"
      ]
    },
    {
      "cell_type": "markdown",
      "metadata": {
        "id": "c0OhorHf2laz"
      },
      "source": [
        "\n",
        "\n",
        "---\n",
        "\n",
        "\n",
        "# End of your Assignment"
      ]
    }
  ],
  "metadata": {
    "colab": {
      "collapsed_sections": [],
      "provenance": []
    },
    "kernelspec": {
      "display_name": "Python 3",
      "name": "python3"
    },
    "language_info": {
      "name": "python"
    }
  },
  "nbformat": 4,
  "nbformat_minor": 0
}