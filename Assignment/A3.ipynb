{
  "cells": [
    {
      "cell_type": "markdown",
      "metadata": {
        "id": "8yRj6Htiebfn"
      },
      "source": [
        "# Programming Assignment-4\n",
        "\n",
        "\n",
        "---\n",
        "\n",
        "\n",
        "## **Sudoku Problem**\n",
        "\n",
        "**Objective:**\n",
        "\n",
        "The objective of this assignment is to implement a solver for Sudoku game using Backtracking (i.e., using recursion). \n",
        "\n",
        "\n",
        "Sudoku game consists of a 9x9 grid with partially filled numbers from 1 to 9. The goal is to fill in the remaining numbers in the grid, such that:\n",
        "*  every grid can contain only the numbers from 1 to 9.\n",
        "*  each 3×3 box can only contain numbers from 1 to 9 once.\n",
        "*  each column/row can only contain numbers from 1 to 9 once, respectively.\n",
        "\n",
        "**Deliverables:**\n",
        "\n",
        "\n",
        "\n",
        "*   This colab notebook with python codes\n",
        "\n",
        "Total marks: 20\n",
        "---\n",
        "\n",
        "\n"
      ]
    },
    {
      "cell_type": "markdown",
      "metadata": {
        "id": "x2yyyaad8lLe"
      },
      "source": [
        "##**Q1. `printGrid()`** \n",
        "You need to write a python function that prints the contents of the 9x9 sudoku grid. You will use this function in the next sections. The grid can be stored as 2D list whose elements are 0 to 9. Value '0' represents an empty square in the grid. (3 marks)"
      ]
    },
    {
      "cell_type": "code",
      "execution_count": 1,
      "metadata": {
        "id": "zzBkU7IbeaO5"
      },
      "outputs": [],
      "source": [
        "# function to print the contents of the sudoku grid\n",
        "def printGrid(grid):\n",
        "  # start\n",
        "  for i in grid:\n",
        "    line = \"\"\n",
        "    for j in i:\n",
        "      line += str(j) + \" \"\n",
        "    print(line)\n",
        "  # end  \n",
        "  return"
      ]
    },
    {
      "cell_type": "markdown",
      "metadata": {
        "id": "xNFpb27oxZvh"
      },
      "source": [
        "When you run the below code it should print the contents of the sudoku grid."
      ]
    },
    {
      "cell_type": "code",
      "execution_count": 2,
      "metadata": {
        "id": "EoAxrSzY1M_T",
        "colab": {
          "base_uri": "https://localhost:8080/"
        },
        "outputId": "873d3103-c428-4357-9faf-c3d37d58c1b5"
      },
      "outputs": [
        {
          "output_type": "stream",
          "name": "stdout",
          "text": [
            "3 0 6 5 0 8 4 0 0 \n",
            "5 2 0 0 0 0 0 0 0 \n",
            "0 8 7 0 0 0 0 3 1 \n",
            "0 0 3 0 1 0 0 8 0 \n",
            "9 0 0 8 6 3 0 0 5 \n",
            "0 5 0 0 9 0 6 0 0 \n",
            "1 3 0 0 0 0 2 5 0 \n",
            "0 0 0 0 0 0 0 7 4 \n",
            "0 0 5 2 0 6 3 0 0 \n"
          ]
        }
      ],
      "source": [
        "# driver code to test the printGrid()\n",
        "\n",
        "grid = [[3, 0, 6, 5, 0, 8, 4, 0, 0], \n",
        "        [5, 2, 0, 0, 0, 0, 0, 0, 0], \n",
        "        [0, 8, 7, 0, 0, 0, 0, 3, 1], \n",
        "        [0, 0, 3, 0, 1, 0, 0, 8, 0], \n",
        "        [9, 0, 0, 8, 6, 3, 0, 0, 5], \n",
        "        [0, 5, 0, 0, 9, 0, 6, 0, 0], \n",
        "        [1, 3, 0, 0, 0, 0, 2, 5, 0], \n",
        "        [0, 0, 0, 0, 0, 0, 0, 7, 4], \n",
        "        [0, 0, 5, 2, 0, 6, 3, 0, 0]]\n",
        "\n",
        "printGrid(grid)"
      ]
    },
    {
      "cell_type": "markdown",
      "metadata": {
        "id": "jrdyOADe1XYc"
      },
      "source": [
        "Expected output:\n",
        "\n",
        "```\n",
        "3 0 6 5 0 8 4 0 0 \n",
        "5 2 0 0 0 0 0 0 0 \n",
        "0 8 7 0 0 0 0 3 1 \n",
        "0 0 3 0 1 0 0 8 0 \n",
        "9 0 0 8 6 3 0 0 5 \n",
        "0 5 0 0 9 0 6 0 0 \n",
        "1 3 0 0 0 0 2 5 0 \n",
        "0 0 0 0 0 0 0 7 4 \n",
        "0 0 5 2 0 6 3 0 0 \n",
        "```"
      ]
    },
    {
      "cell_type": "markdown",
      "metadata": {
        "id": "XEqTlazczFSV"
      },
      "source": [
        "##**Q2. `checkSafety(grid, row, col, num)`** \n",
        "You need to write a python function to check if a number `num` can be added to a square whose position is given by `(row,col)`. You need to make sure that the `num` is present only once in that column, row and the 3x3 box. If `num` is a valid entry to the square, then return `True`, else return `False`. You may have to use `printGrid()` function in your code for debugging purposes. (4 marks)"
      ]
    },
    {
      "cell_type": "code",
      "execution_count": 3,
      "metadata": {
        "id": "CbhMOf4oxMtJ"
      },
      "outputs": [],
      "source": [
        "# function to check if a number can be added to a grid.\n",
        "def checkSafety(grid, row, col, num):\n",
        "  # start\n",
        "  numRowList = grid[row]\n",
        "  numColList = list(map(lambda x: x[col], grid))\n",
        "  \n",
        "  gridRow = row // 3\n",
        "  gridCol = col // 3\n",
        "  #print(gridRow, gridCol)\n",
        "\n",
        "  makeGrid = grid[gridRow*3 : gridRow*3 +3]\n",
        "  makeGrid2 = list(map(lambda x: x[gridCol*3: gridCol*3 + 3], makeGrid))\n",
        "  makeGrid2 = makeGrid2[0] + makeGrid2[1] + makeGrid2[2]\n",
        "  ##print(makeGrid2)\n",
        "  #check if the num is already in the row and return false\n",
        "  if num in numRowList:\n",
        "    return False\n",
        "  #check if the num is already in the col and return false\n",
        "  if num in numColList:\n",
        "    return False\n",
        "  #check if the num is already in the 3x3 box and return false\n",
        "  if num in makeGrid2:\n",
        "    return False\n",
        "\n",
        "  # end\n",
        "  return True"
      ]
    },
    {
      "cell_type": "markdown",
      "metadata": {
        "id": "qtYiItxD2-NE"
      },
      "source": [
        "When you run the below code, it should print the expected output."
      ]
    },
    {
      "cell_type": "code",
      "execution_count": 4,
      "metadata": {
        "id": "VIdYMFYk3CUo",
        "colab": {
          "base_uri": "https://localhost:8080/"
        },
        "outputId": "53442fff-dc0d-406d-a224-697ed069b70b"
      },
      "outputs": [
        {
          "output_type": "stream",
          "name": "stdout",
          "text": [
            "True False False True False False False False True "
          ]
        }
      ],
      "source": [
        "# driver code to test the checkSafety()\n",
        "grid = [[3, 0, 6, 5, 0, 8, 4, 0, 0], \n",
        "        [5, 2, 0, 0, 0, 0, 0, 0, 0], \n",
        "        [0, 8, 7, 0, 0, 0, 0, 3, 1], \n",
        "        [0, 0, 3, 0, 1, 0, 0, 8, 0], \n",
        "        [9, 0, 0, 8, 6, 3, 0, 0, 5], \n",
        "        [0, 5, 0, 0, 9, 0, 6, 0, 0], \n",
        "        [1, 3, 0, 0, 0, 0, 2, 5, 0], \n",
        "        [0, 0, 0, 0, 0, 0, 0, 7, 4], \n",
        "        [0, 0, 5, 2, 0, 6, 3, 0, 0]]\n",
        "\n",
        "#for i in range(9):\n",
        "  #for j in range(9):\n",
        "    #print(checkSafety(grid, i,j,9),\"row: \", i, \"col: \", j)\n",
        "\n",
        "for i in range(1,10,1):\n",
        "  print(checkSafety(grid, 1,2,i), end=\" \")"
      ]
    },
    {
      "cell_type": "markdown",
      "metadata": {
        "id": "xGnZhsCI5Q44"
      },
      "source": [
        "Expected output:\n",
        "\n",
        "\n",
        "```\n",
        "True False False True False False False False True\n",
        "```\n",
        "\n"
      ]
    },
    {
      "cell_type": "markdown",
      "metadata": {
        "id": "etEjxVZEevfx"
      },
      "source": [
        "##**Q3. `getUnassigned(grid)`** \n",
        "You need to write a python function to get the list of unassigned grids, i.e., get the indices of locations whoes values are 0. This function should return a list of indices. (3 marks)"
      ]
    },
    {
      "cell_type": "code",
      "execution_count": 5,
      "metadata": {
        "id": "YwDGUl9Qevfy"
      },
      "outputs": [],
      "source": [
        "# function to get the list of indices whoes values are unassigned, i.e., 0.\n",
        "def getUnassigned(grid):\n",
        "  index = [];\n",
        "  # start\n",
        "  for i in range(9): ## row\n",
        "    for j in range(9): ## col\n",
        "      if grid[i][j] == 0: # If 0, then append index\n",
        "        index.append([i,j])\n",
        "  # end\n",
        "  return index"
      ]
    },
    {
      "cell_type": "markdown",
      "metadata": {
        "id": "BPPyrdFAevfz"
      },
      "source": [
        "When you run the below code, it should print the expected output."
      ]
    },
    {
      "cell_type": "code",
      "execution_count": 6,
      "metadata": {
        "id": "35cEvUFtevfz",
        "colab": {
          "base_uri": "https://localhost:8080/"
        },
        "outputId": "9024958b-a249-4562-a446-2161488d4d18"
      },
      "outputs": [
        {
          "output_type": "stream",
          "name": "stdout",
          "text": [
            "[[0, 1], [0, 4], [0, 7], [0, 8], [1, 2], [1, 3], [1, 4], [1, 5], [1, 6], [1, 7], [1, 8], [2, 0], [2, 3], [2, 4], [2, 5], [2, 6], [3, 0], [3, 1], [3, 3], [3, 5], [3, 6], [3, 8], [4, 1], [4, 2], [4, 6], [4, 7], [5, 0], [5, 2], [5, 3], [5, 5], [5, 7], [5, 8], [6, 2], [6, 3], [6, 4], [6, 5], [6, 8], [7, 0], [7, 1], [7, 2], [7, 3], [7, 4], [7, 5], [7, 6], [8, 0], [8, 1], [8, 4], [8, 7], [8, 8]]\n"
          ]
        }
      ],
      "source": [
        "# driver code to test the checkSafety()\n",
        "grid = [[3, 0, 6, 5, 0, 8, 4, 0, 0], \n",
        "        [5, 2, 0, 0, 0, 0, 0, 0, 0], \n",
        "        [0, 8, 7, 0, 0, 0, 0, 3, 1], \n",
        "        [0, 0, 3, 0, 1, 0, 0, 8, 0], \n",
        "        [9, 0, 0, 8, 6, 3, 0, 0, 5], \n",
        "        [0, 5, 0, 0, 9, 0, 6, 0, 0], \n",
        "        [1, 3, 0, 0, 0, 0, 2, 5, 0], \n",
        "        [0, 0, 0, 0, 0, 0, 0, 7, 4], \n",
        "        [0, 0, 5, 2, 0, 6, 3, 0, 0]]\n",
        "\n",
        "index = getUnassigned(grid)\n",
        "print(index)  "
      ]
    },
    {
      "cell_type": "markdown",
      "metadata": {
        "id": "0rMfDUNyevf0"
      },
      "source": [
        "Expected output:\n",
        "\n",
        "\n",
        "```\n",
        "[[0, 1], [0, 4], [0, 7], [0, 8], [1, 2], [1, 3], [1, 4], [1, 5], [1, 6], [1, 7], [1, 8], [2, 0], [2, 3], [2, 4], [2, 5], [2, 6], [3, 0], [3, 1], [3, 3], [3, 5], [3, 6], [3, 8], [4, 1], [4, 2], [4, 6], [4, 7], [5, 0], [5, 2], [5, 3], [5, 5], [5, 7], [5, 8], [6, 2], [6, 3], [6, 4], [6, 5], [6, 8], [7, 0], [7, 1], [7, 2], [7, 3], [7, 4], [7, 5], [7, 6], [8, 0], [8, 1], [8, 4], [8, 7], [8, 8]]\n",
        "```\n",
        "\n"
      ]
    },
    {
      "cell_type": "markdown",
      "metadata": {
        "id": "jkxbh08uFZwd"
      },
      "source": [
        "##**Q4. Backtracking Solution**\n",
        "You need to write down a python function for solving the sudoko game using backtracking method. You will be using all the above functions in this implementation. You need to use recursive function for this method. First, get the indices (i.e., rows and columns) of unassigned numbers from grid. If there are no unassigned location, then we got a solution. Else, find a suitable number (from 1 to 9) for an unassigned locations, recursively. You will return `True` if you find a solution, else return `False`. The comments inside the function is to guide you the implementation and is not compulsory to follow these steps. (10 marks)"
      ]
    },
    {
      "cell_type": "code",
      "execution_count": 7,
      "metadata": {
        "id": "x0LTbMOHFZwe"
      },
      "outputs": [],
      "source": [
        "# function to compute the a solution for 9x9 sudoku grid using \n",
        "# backtracking method.\n",
        "\n",
        "def solveSudoku(grid):\n",
        "  # fill in your codes here\n",
        "  N = 9\n",
        "  # get the indices of unassigned locations in the grid, i.e., values are 0.\n",
        "  unassLoc = getUnassigned(grid)\n",
        "\n",
        "  # Base case for recursive function:\n",
        "  # Check if there is no unassigned location, if so, just print grid and \n",
        "  # return TRUE\n",
        "  if unassLoc == []:\n",
        "    printGrid(grid)\n",
        "    return True\n",
        "  \n",
        "  # Recursive case:\n",
        "  # Since there is atleast one unassigned location, we try to choose the values\n",
        "  # from (0 to 9) for the first unassigned location, check the safety of the \n",
        "  # grid with the value assigned for that unassigned location, then make a \n",
        "  # recursvie call.\n",
        "  index = unassLoc[0]\n",
        "  row, col = index[0], index[1]\n",
        "\n",
        "  for i in range(1,10,1):\n",
        "    if checkSafety(grid, row, col,i):\n",
        "      grid[row][col] = i\n",
        "      if solveSudoku(grid) == True:\n",
        "        return True\n",
        "  grid[row][col] = 0\n",
        "\n",
        "\n",
        "\n",
        "\n",
        "  # after trying all possible values for this location, we couldn't find a \n",
        "  # suitable value. So we backtrack with different values by returning false.\n",
        "  return False"
      ]
    },
    {
      "cell_type": "markdown",
      "metadata": {
        "id": "td9W_-ZNFZwf"
      },
      "source": [
        "When you run the below code, it should print the expected output."
      ]
    },
    {
      "cell_type": "code",
      "execution_count": 12,
      "metadata": {
        "id": "abKT0AKAFZwf",
        "colab": {
          "base_uri": "https://localhost:8080/"
        },
        "outputId": "b11e776a-795e-4186-daaf-43c35ea6c417"
      },
      "outputs": [
        {
          "output_type": "stream",
          "name": "stdout",
          "text": [
            "3 1 6 5 7 8 4 9 2 \n",
            "5 2 9 1 3 4 7 6 8 \n",
            "4 8 7 6 2 9 5 3 1 \n",
            "2 6 3 4 1 5 9 8 7 \n",
            "9 7 4 8 6 3 1 2 5 \n",
            "8 5 1 7 9 2 6 4 3 \n",
            "1 3 8 9 4 7 2 5 6 \n",
            "6 9 2 3 5 1 8 7 4 \n",
            "7 4 5 2 8 6 3 1 9 \n"
          ]
        },
        {
          "output_type": "execute_result",
          "data": {
            "text/plain": [
              "True"
            ]
          },
          "metadata": {},
          "execution_count": 12
        }
      ],
      "source": [
        "# driver code to test the solveSudoku()\n",
        "grid = [[3, 0, 6, 5, 0, 8, 4, 0, 0], \n",
        "        [5, 2, 0, 0, 0, 0, 0, 0, 0], \n",
        "        [0, 8, 7, 0, 0, 0, 0, 3, 1], \n",
        "        [0, 0, 3, 0, 1, 0, 0, 8, 0], \n",
        "        [9, 0, 0, 8, 6, 3, 0, 0, 5], \n",
        "        [0, 5, 0, 0, 9, 0, 6, 0, 0], \n",
        "        [1, 3, 0, 0, 0, 0, 2, 5, 0], \n",
        "        [0, 0, 0, 0, 0, 0, 0, 7, 4], \n",
        "        [0, 0, 5, 2, 0, 6, 3, 0, 0]]\n",
        "\n",
        "solveSudoku(grid)"
      ]
    },
    {
      "cell_type": "markdown",
      "metadata": {
        "id": "gTH-ViF6FZwf"
      },
      "source": [
        "Expected output:\n",
        "```\n",
        "3 1 6 5 7 8 4 9 2 \n",
        "5 2 9 1 3 4 7 6 8 \n",
        "4 8 7 6 2 9 5 3 1 \n",
        "2 6 3 4 1 5 9 8 7 \n",
        "9 7 4 8 6 3 1 2 5 \n",
        "8 5 1 7 9 2 6 4 3 \n",
        "1 3 8 9 4 7 2 5 6 \n",
        "6 9 2 3 5 1 8 7 4 \n",
        "7 4 5 2 8 6 3 1 9 \n",
        "True\n",
        "```"
      ]
    },
    {
      "cell_type": "markdown",
      "metadata": {
        "id": "fOMDVAKyDpAM"
      },
      "source": [
        "# End of your assignment"
      ]
    }
  ],
  "metadata": {
    "colab": {
      "collapsed_sections": [],
      "provenance": []
    },
    "kernelspec": {
      "display_name": "Python 3",
      "language": "python",
      "name": "python3"
    },
    "language_info": {
      "codemirror_mode": {
        "name": "ipython",
        "version": 3
      },
      "file_extension": ".py",
      "mimetype": "text/x-python",
      "name": "python",
      "nbconvert_exporter": "python",
      "pygments_lexer": "ipython3",
      "version": "3.6.10"
    }
  },
  "nbformat": 4,
  "nbformat_minor": 0
}