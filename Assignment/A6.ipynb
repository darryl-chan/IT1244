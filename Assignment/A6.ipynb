{
  "nbformat": 4,
  "nbformat_minor": 0,
  "metadata": {
    "colab": {
      "provenance": [],
      "collapsed_sections": []
    },
    "kernelspec": {
      "name": "python3",
      "display_name": "Python 3"
    },
    "language_info": {
      "name": "python"
    }
  },
  "cells": [
    {
      "cell_type": "code",
      "metadata": {
        "id": "kuzTFbwJJ3pR"
      },
      "source": [
        "import numpy as np\n",
        "import matplotlib.pyplot as plt\n",
        "import tensorflow as tf"
      ],
      "execution_count": 52,
      "outputs": []
    },
    {
      "cell_type": "markdown",
      "metadata": {
        "id": "qynNtMOXKRrx"
      },
      "source": [
        "# Programming Assignment 6\n",
        "\n",
        "---\n",
        "\n",
        "## **MNIST Classification with Keras**\n",
        "\n",
        "**Objective:**\n",
        "\n",
        "The objective of the assignment is to create and train a Neural Network for a given dataset. The dataset need to be preprocessed first. After training, we can evalute the model's performance by making predictions on the test set. After completing this assignment, you should be familiar with the following:\n",
        "\n",
        "* How to load a Keras dataset?\n",
        "\n",
        "* How to one-hot encode the labels?\n",
        "\n",
        "* How to reshape the dataset?\n",
        "\n",
        "* How to standardize the features in the dataset for better results?\n",
        "\n",
        "* How to create and train a Neural Network?\n",
        "\n",
        "* How to evaluate the results of the NN?\n",
        "\n",
        "We will load and process the MNIST dataset during this assignment. The MNIST dataset is developed for recognizing the 10 handwritten digits, with 60,000 images in the training set and 10,000 images in the test set. Images in the dataset are grayscaled and have 28x28 pixels.\n",
        "\n",
        "\n",
        "**Deliverables:**\n",
        "\n",
        "*   This colab notebook with python codes\n",
        "\n",
        "Total Marks: 25 = 2 + 2 + 2 + 2 + 8 + 4 + 2 + 3.\n",
        "---\n"
      ]
    },
    {
      "cell_type": "markdown",
      "metadata": {
        "id": "aZYw4DbuMEpz"
      },
      "source": [
        "##**Q1. Load the dataset**\n",
        "\n",
        "For this question, you need to implement the function `load_mnist_dataset` that does the followings (**2 marks**):\n",
        "\n",
        "* Load the MNIST dataset (Hint: see https://www.tensorflow.org/api_docs/python/tf/keras/datasets/mnist/load_data);\n",
        "* Separate the training data and labels, as well as test data and labels."
      ]
    },
    {
      "cell_type": "code",
      "metadata": {
        "id": "L7eDL4bALx9C"
      },
      "source": [
        "\n",
        "def load_mnist_dataset():\n",
        "  '''\n",
        "  RETURN\n",
        "    x_train: numpy array\n",
        "    y_train: numpy array\n",
        "    x_test: numpy array\n",
        "    y_test: numpy array\n",
        "  '''\n",
        "  x_train, y_train, x_test, y_test = None, None, None, None\n",
        "  # START CODE HERE\n",
        "  xy_train, xy_test = tf.keras.datasets.mnist.load_data(\n",
        "    path='mnist.npz'\n",
        "  )\n",
        "\n",
        "  x_train, y_train = xy_train\n",
        "  x_test, y_test = xy_test\n",
        "\n",
        "  # END CODE HERE\n",
        "  return x_train, y_train, x_test, y_test\n",
        "\n",
        "x_train, y_train, x_test, y_test = load_mnist_dataset()"
      ],
      "execution_count": 53,
      "outputs": []
    },
    {
      "cell_type": "markdown",
      "metadata": {
        "id": "X2kEIenkNboh"
      },
      "source": [
        "When you run this code, you should get the expected output as shown below:\n"
      ]
    },
    {
      "cell_type": "code",
      "metadata": {
        "id": "VTL_8LsHQFvR",
        "colab": {
          "base_uri": "https://localhost:8080/"
        },
        "outputId": "cb71b60e-cffa-427f-d052-9335ec917460"
      },
      "source": [
        "print(\"Shape of training set: \", x_train.shape)\n",
        "print(\"Shape of testing set: \", x_test.shape)\n",
        "print(\"Shape of training labels: \", y_train.shape)\n",
        "print(\"Shape of testing labels: \", y_test.shape)"
      ],
      "execution_count": 54,
      "outputs": [
        {
          "output_type": "stream",
          "name": "stdout",
          "text": [
            "Shape of training set:  (60000, 28, 28)\n",
            "Shape of testing set:  (10000, 28, 28)\n",
            "Shape of training labels:  (60000,)\n",
            "Shape of testing labels:  (10000,)\n"
          ]
        }
      ]
    },
    {
      "cell_type": "markdown",
      "metadata": {
        "id": "E2RT9HHkNpT0"
      },
      "source": [
        "Expected output :\n",
        "\n",
        "```\n",
        "Shape of training set:  (60000, 28, 28)\n",
        "Shape of testing set:  (10000, 28, 28)\n",
        "Shape of training labels:  (60000,)\n",
        "Shape of testing labels:  (10000,)\n",
        "```\n",
        "\n",
        "\n"
      ]
    },
    {
      "cell_type": "markdown",
      "metadata": {
        "id": "ZvURFnXUQRGw"
      },
      "source": [
        "And if you run this cell, it will show an image of the digit $5$."
      ]
    },
    {
      "cell_type": "code",
      "metadata": {
        "colab": {
          "base_uri": "https://localhost:8080/",
          "height": 265
        },
        "id": "hIEwevCnQWJ6",
        "outputId": "f53e92b8-8458-44dc-b2ce-e4f967c4171e"
      },
      "source": [
        "plt.imshow(x_train[0])\n",
        "plt.show()"
      ],
      "execution_count": 55,
      "outputs": [
        {
          "output_type": "display_data",
          "data": {
            "text/plain": [
              "<Figure size 432x288 with 1 Axes>"
            ],
            "image/png": "[encoded data removed]"
          },
          "metadata": {
            "needs_background": "light"
          }
        }
      ]
    },
    {
      "cell_type": "markdown",
      "metadata": {
        "id": "sf4fr5f6LOyo"
      },
      "source": [
        "## **Q2. One-hot encoding of the dataset**\n",
        "The dataset contains images of handwritten digits. Hence, they belong to one of the 10 categories, 0 to 9, depending on the digit they represent. \n",
        "\n",
        "However, to be able to exploit the dataset more easily, we want the true labels to be encoded in the same format. Thus, we will do **one-hot encoding** for labels. That is, given label $i$, we will create a 10-dimensional binary vector $\\{0, 1\\}^{10}$ and set its $i$-th dimension to 1 and others to 0. For example, the one-hot encoding of label $7$ will be:\n",
        "\n",
        "$$ \\mathbf{y} = [0, 0, 0, 0, 0, 0, 0, 1, 0, 0] $$\n",
        "\n",
        "For this question, you need to implement a function to transform an array of labels to the corresponding one-hot encodings (**2 marks**). "
      ]
    },
    {
      "cell_type": "code",
      "metadata": {
        "id": "wtNnd9d8S4Tb"
      },
      "source": [
        "def one_hot_encoding(y_array):\n",
        "  '''\n",
        "  y_array: numpy array, shape = [N,]\n",
        "  RETURN\n",
        "    y_encoded_array: numpy array, shape = [N, 10]\n",
        "  '''\n",
        "  y_encoded_array = None\n",
        "  \n",
        "  #START CODE HERE\n",
        "  y_encoded_array = np.zeros((len(y_array),10))\n",
        "  for i in range(len(y_array)):\n",
        "    y_encoded_array[i][y_array[i]] += 1\n",
        "\n",
        "\n",
        "  \n",
        "  #END CODE HERE\n",
        "  \n",
        "  return y_encoded_array\n",
        "  "
      ],
      "execution_count": 56,
      "outputs": []
    },
    {
      "cell_type": "markdown",
      "metadata": {
        "id": "JL0wrsNtuC5K"
      },
      "source": [
        "When you run this code, you should get the expected output as shown below:\n"
      ]
    },
    {
      "cell_type": "code",
      "metadata": {
        "id": "J1euQRQ_trsa",
        "colab": {
          "base_uri": "https://localhost:8080/"
        },
        "outputId": "287bbdb3-c822-4a48-84bd-cfcaedc3c3f3"
      },
      "source": [
        "y_encoded_train = one_hot_encoding(y_train)\n",
        "y_encoded_test = one_hot_encoding(y_test)\n",
        "\n",
        "print(\"{} becomes {}\".format(y_train[3],y_encoded_train[3]))\n",
        "print(\"{} becomes {}\".format(y_test[45],y_encoded_test[45]))"
      ],
      "execution_count": 57,
      "outputs": [
        {
          "output_type": "stream",
          "name": "stdout",
          "text": [
            "1 becomes [0. 1. 0. 0. 0. 0. 0. 0. 0. 0.]\n",
            "5 becomes [0. 0. 0. 0. 0. 1. 0. 0. 0. 0.]\n"
          ]
        }
      ]
    },
    {
      "cell_type": "markdown",
      "metadata": {
        "id": "QpkR03fBuD6V"
      },
      "source": [
        "Expected output :\n",
        "\n",
        "```\n",
        "1 becomes [0. 1. 0. 0. 0. 0. 0. 0. 0. 0.]\n",
        "5 becomes [0. 0. 0. 0. 0. 1. 0. 0. 0. 0.]\n",
        "```\n",
        "\n"
      ]
    },
    {
      "cell_type": "markdown",
      "metadata": {
        "id": "W-oWZVhrSNlv"
      },
      "source": [
        "## **Q3. Reshape the data**\n",
        "\n",
        "The images are black and white of size $28 \\times 28$. We want to work with simple classification model, so we need to transform the array of the images from size $(28 \\times 28)$ to $(784)$.\n",
        "\n",
        "For this question, you need to implement the `reshape_x` function that transforms the images of size $(28\\times 28)$ to the size $(784)$. The function takes a numpy array of size $(N, 28, 28)$ as input, where $N$ is the dataset size and each row of the array corresponds to an image. You can use the numpy function ```np.reshape``` in your own function (**2 marks**)."
      ]
    },
    {
      "cell_type": "code",
      "metadata": {
        "id": "M7TN-Li8S4-d"
      },
      "source": [
        "def reshape_x(X):\n",
        "  '''\n",
        "  x: numpy array, shape = [N, 28, 28]\n",
        "  RETURN \n",
        "    x_reshape: numpy array, shape = [N, 784,]\n",
        "  '''\n",
        "  X_reshape = None\n",
        "  \n",
        "  # START CODE HERE\n",
        "  X_reshape = X.reshape((len(X),784))\n",
        "  \n",
        "  \n",
        "  \n",
        "  # END CODE HERE\n",
        "  \n",
        "  return X_reshape\n"
      ],
      "execution_count": 58,
      "outputs": []
    },
    {
      "cell_type": "markdown",
      "metadata": {
        "id": "sH4HofXwVCsT"
      },
      "source": [
        "When you run this code, you should get the expected output as shown below:\n"
      ]
    },
    {
      "cell_type": "code",
      "metadata": {
        "id": "MWc1HuPGVDPH",
        "colab": {
          "base_uri": "https://localhost:8080/"
        },
        "outputId": "0d5a3f39-6a15-4389-8ee5-f86541f552b7"
      },
      "source": [
        "x_train_reshape = reshape_x(x_train)\n",
        "x_test_reshape = reshape_x(x_test)\n",
        "\n",
        "print(\"Shape of the reshaped training set images: \", x_train_reshape.shape)\n",
        "print(\"Shapeh of the reshaped testing set images: \", x_test_reshape.shape)"
      ],
      "execution_count": 59,
      "outputs": [
        {
          "output_type": "stream",
          "name": "stdout",
          "text": [
            "Shape of the reshaped training set images:  (60000, 784)\n",
            "Shapeh of the reshaped testing set images:  (10000, 784)\n"
          ]
        }
      ]
    },
    {
      "cell_type": "markdown",
      "metadata": {
        "id": "36g8FqHpQAci"
      },
      "source": [
        "Expected output :\n",
        "\n",
        "```\n",
        "Shape of the reshaped training set images:  (60000, 784)\n",
        "Shapeh of the reshaped testing set images:  (10000, 784)\n",
        "\n",
        "```\n",
        "\n"
      ]
    },
    {
      "cell_type": "markdown",
      "metadata": {
        "id": "1SPPXqUYLJmN"
      },
      "source": [
        "##**Q4. `standardize_dataset()`**\n",
        "\n",
        "You need to implement this function to standardize the input values, i.e., `X` values. This function takes in the numpy array `X` and returns the standardize numpy array of `X`. This can be done in single line of code. (**2 marks**)"
      ]
    },
    {
      "cell_type": "code",
      "metadata": {
        "id": "eSdVALMUK4w5"
      },
      "source": [
        "def standardize_dataset(X):\n",
        "  '''\n",
        "  X: numpy array, shape = [N, D]\n",
        "  RETURN\n",
        "    X_std: numpy array, shape = [N, D]\n",
        "  '''\n",
        "  X_std = None\n",
        "  # START CODE HERE\n",
        "  std = np.std(X)\n",
        "  mean = np.mean(X)\n",
        "  X_std = (X-mean)/std\n",
        "\n",
        "  \n",
        "  # END CODE HERE\n",
        "\n",
        "  return X_std\n"
      ],
      "execution_count": 60,
      "outputs": []
    },
    {
      "cell_type": "markdown",
      "metadata": {
        "id": "v50NBnA_x4M0"
      },
      "source": [
        "When you run this code, you should get the expected output as shown below:"
      ]
    },
    {
      "cell_type": "code",
      "metadata": {
        "id": "zTnMILN7Rndl",
        "colab": {
          "base_uri": "https://localhost:8080/"
        },
        "outputId": "b298201f-42c7-41a6-ea41-bec10a15daca"
      },
      "source": [
        "x_train_std = standardize_dataset(x_train_reshape)\n",
        "x_test_std = standardize_dataset(x_test_reshape)\n",
        "print(x_train_reshape.shape)\n",
        "print(x_test_reshape.shape)\n",
        "print(x_train_std[0][0], x_train_std[1][127])\n",
        "print(x_test_std[0][0], x_test_std[1][127])"
      ],
      "execution_count": 61,
      "outputs": [
        {
          "output_type": "stream",
          "name": "stdout",
          "text": [
            "(60000, 784)\n",
            "(10000, 784)\n",
            "-0.424073894391566 0.22504955362461426\n",
            "-0.42680526933869534 2.7687502268907367\n"
          ]
        }
      ]
    },
    {
      "cell_type": "markdown",
      "metadata": {
        "id": "nmmY8Jksxy00"
      },
      "source": [
        "Expected output :\n",
        "\n",
        "```\n",
        "(60000, 784)\n",
        "(10000, 784)\n",
        "-0.424073894391566 0.22504955362461426\n",
        "-0.42680526933869534 2.7687502268907367\n",
        "```\n",
        "\n"
      ]
    },
    {
      "cell_type": "markdown",
      "source": [
        "## **Import packages for Implementing the Neural Network**\n",
        "\n",
        "Next, we will implement our Neural Networks for recogizing the digits in images. To make the implementation easier, we will use a deep learning framework. A deep learning framework can automatically do the very complex gradient backpropagation and gradient descent for us, saving us a lot of coding. In this assignment, we use the keras framework, which provides high-level building blocks for developing deep learning models. We now import the relevant packages for later usage."
      ],
      "metadata": {
        "id": "ZaDYbaFoYIOk"
      }
    },
    {
      "cell_type": "code",
      "source": [
        "# Importing the Keras main module forcing tensorflow 1.x backend\n",
        "import keras\n",
        "import tensorflow as tf\n",
        "from keras.datasets import mnist\n",
        "from keras.utils.np_utils import to_categorical\n",
        "from keras import optimizers\n",
        "from keras.models import Sequential\n",
        "from keras.layers import Dense, Activation, Flatten\n",
        "\n",
        "print(\"Using tensorflow version \" + str(tf.__version__))\n",
        "print(\"Using keras version \" + str(keras.__version__))"
      ],
      "metadata": {
        "colab": {
          "base_uri": "https://localhost:8080/"
        },
        "id": "VUKBJ4YqYDNk",
        "outputId": "a000e779-1ab3-4076-e194-b8c51a05f6eb"
      },
      "execution_count": 62,
      "outputs": [
        {
          "output_type": "stream",
          "name": "stdout",
          "text": [
            "Using tensorflow version 2.9.2\n",
            "Using keras version 2.9.0\n"
          ]
        }
      ]
    },
    {
      "cell_type": "markdown",
      "metadata": {
        "id": "sCaIUDThy-ZQ"
      },
      "source": [
        "##**Q5. Create a simple Neural Network with Keras**\n",
        "\n",
        "In this question, we will create our own Neural Network (NN). Specifically, **you need to implement a three-layer Neural Network with the architecture shown by the Figure below.** \n",
        "The NN should take a tensor the same shape as our digits as input. The first hidden layer should output 300 dimensional vector and use `sigmoid` as the activation function. The second hidden layer should also output 300 dimensional vector and use `relu` as the activation function. The third hidden layer (i.e., the output layer) should output the size of  prediction and use a softmax activation at the end for multi-class classification (**8 marks**). \n",
        "\n",
        "\n",
        "![flowchart](https://raw.githubusercontent.com/acharkq/IT1244/main/Assignment6/flowchar2.png)\n",
        "\n",
        "**<center>Figure1: Overall Architecture of our Neural Network.</center>**\n",
        "\n",
        "Looks a bit of complex, right? Luckily, these modules can be implemented by Keras with only a few lines of code, as long as you find the right functions and setup the parameters correctly. To know more about implementing Neural Networks with Keras, see exmaples at [https://keras.io/examples/](https://keras.io/examples/), guides at [https://keras.io/guides/](https://keras.io/guides/), and the API document at [https://keras.io/api/](https://keras.io/api/). \n",
        "\n",
        "To help you, here are some hints to create the Neural Network (Figure1):\n",
        "\n",
        "* Initialize the Neural Network as an instance of the `keras.models.Sequential` object. In Keras, a `Sequential` instance is a container of other Keras modules. When setup correctly, it consumes one input tensor and output one output tensor;\n",
        "* All the modules (i.e., the linear layers and the activation functions) in Figure1 have an implementation in Keras. You only need to add them into the `Sequential` instance;\n",
        "* Setup the modules' parameters. Although the modules are off-the-shelf, we still need to let the modules know \"what is the size of the input\", \"how many dimensions do we want for the intermediate layer\", etc.\n"
      ]
    },
    {
      "cell_type": "code",
      "metadata": {
        "id": "9gkdtmNHvrEC"
      },
      "source": [
        "# initialize the neural network under the name `model`\n",
        "model = None\n",
        "\n",
        "# START CODE HERE\n",
        "\n",
        "model = keras.models.Sequential()\n",
        "\n",
        "model.add(keras.Input(shape=(784,), name=\"sequential_2\"))\n",
        "\n",
        "model.add(keras.layers.Dense(300))\n",
        "model.add(keras.layers.Activation(keras.activations.sigmoid))\n",
        "\n",
        "model.add(keras.layers.Dense(300))\n",
        "model.add(keras.layers.Activation(keras.activations.relu))\n",
        "\n",
        "model.add(keras.layers.Dense(10))\n",
        "model.add(keras.layers.Activation(keras.activations.softmax))\n",
        "\n",
        "\n",
        "\n",
        "\n",
        "\n",
        "\n",
        "\n",
        "\n",
        "# END CODE HERE"
      ],
      "execution_count": 63,
      "outputs": []
    },
    {
      "cell_type": "markdown",
      "metadata": {
        "id": "S-KkQfnF0ztv"
      },
      "source": [
        "When you run this code, you should get the expected output as shown below:"
      ]
    },
    {
      "cell_type": "code",
      "metadata": {
        "id": "f89bGphuzVtx",
        "colab": {
          "base_uri": "https://localhost:8080/"
        },
        "outputId": "a4ab69b1-08d6-4f1e-d6d7-487b0dcae9e8"
      },
      "source": [
        "model.summary()"
      ],
      "execution_count": 64,
      "outputs": [
        {
          "output_type": "stream",
          "name": "stdout",
          "text": [
            "Model: \"sequential_2\"\n",
            "_________________________________________________________________\n",
            " Layer (type)                Output Shape              Param #   \n",
            "=================================================================\n",
            " dense_9 (Dense)             (None, 300)               235500    \n",
            "                                                                 \n",
            " activation_9 (Activation)   (None, 300)               0         \n",
            "                                                                 \n",
            " dense_10 (Dense)            (None, 300)               90300     \n",
            "                                                                 \n",
            " activation_10 (Activation)  (None, 300)               0         \n",
            "                                                                 \n",
            " dense_11 (Dense)            (None, 10)                3010      \n",
            "                                                                 \n",
            " activation_11 (Activation)  (None, 10)                0         \n",
            "                                                                 \n",
            "=================================================================\n",
            "Total params: 328,810\n",
            "Trainable params: 328,810\n",
            "Non-trainable params: 0\n",
            "_________________________________________________________________\n"
          ]
        }
      ]
    },
    {
      "cell_type": "markdown",
      "metadata": {
        "id": "bi875UoI0pet"
      },
      "source": [
        "Expected output (the number after the name of the layer can change) :\n",
        "\n",
        "```\n",
        "Model: \"sequential_2\"\n",
        "_________________________________________________________________\n",
        " Layer (type)                Output Shape              Param #   \n",
        "=================================================================\n",
        " dense_5 (Dense)             (None, 300)               235500    \n",
        "                                                                 \n",
        " activation_5 (Activation)   (None, 300)               0         \n",
        "                                                                 \n",
        " dense_6 (Dense)             (None, 300)               90300     \n",
        "                                                                 \n",
        " activation_6 (Activation)   (None, 300)               0         \n",
        "                                                                 \n",
        " dense_7 (Dense)             (None, 10)                3010      \n",
        "                                                                 \n",
        " activation_7 (Activation)   (None, 10)                0         \n",
        "                                                                 \n",
        "=================================================================\n",
        "Total params: 328,810\n",
        "Trainable params: 328,810\n",
        "Non-trainable params: 0\n",
        "_________________________________________________________________\n",
        "```\n",
        "\n"
      ]
    },
    {
      "cell_type": "markdown",
      "metadata": {
        "id": "MHN8xpciztuk"
      },
      "source": [
        "##**Q6. Training the network**\n",
        "\n",
        "For this question, you need train the neural network. We have chosen the Stochastic Gradient Descent (SGD) optimizer with learning rate $0.01$ and compiled the model for you. Now, you need to call the correct function (see the Keras guides and examples) to train the model with the training set for 10 epochs with a batch size of 10. You also need to use the test set to evaluate the performance of your neural network. Moreover, you need to store the training loss/accuracy and test lost/accuracy in some way (**4 marks**).\n",
        "\n",
        "*Hint: Although the question asks for a lot, you can implement all the requirements above with a single line of code in Keras!*\n",
        "\n",
        "(Under the Colab environment, the training should take no more than 10 minutes. Check your code if it takes too long.)"
      ]
    },
    {
      "cell_type": "code",
      "metadata": {
        "id": "vIeow_5L16Lz",
        "colab": {
          "base_uri": "https://localhost:8080/"
        },
        "outputId": "1af1bf28-22d3-4ce5-f426-52b39df9c05c"
      },
      "source": [
        "opt = tf.optimizers.SGD(learning_rate=0.01)\n",
        "model.compile(loss='categorical_crossentropy', optimizer=opt, metrics=['accuracy'])\n",
        "\n",
        "history = None\n",
        "\n",
        "# START CODE HERE\n",
        "\n",
        "history = model.fit(x_train_std, y_encoded_train, batch_size = 10, epochs = 10, validation_data=(x_test_std, y_encoded_test) )\n",
        "\n",
        "# END CODE HERE"
      ],
      "execution_count": 65,
      "outputs": [
        {
          "output_type": "stream",
          "name": "stdout",
          "text": [
            "Epoch 1/10\n",
            "6000/6000 [==============================] - 40s 7ms/step - loss: 0.4142 - accuracy: 0.8837 - val_loss: 0.2533 - val_accuracy: 0.9243\n",
            "Epoch 2/10\n",
            "6000/6000 [==============================] - 28s 5ms/step - loss: 0.2254 - accuracy: 0.9341 - val_loss: 0.1879 - val_accuracy: 0.9445\n",
            "Epoch 3/10\n",
            "6000/6000 [==============================] - 30s 5ms/step - loss: 0.1717 - accuracy: 0.9498 - val_loss: 0.1601 - val_accuracy: 0.9510\n",
            "Epoch 4/10\n",
            "6000/6000 [==============================] - 31s 5ms/step - loss: 0.1384 - accuracy: 0.9595 - val_loss: 0.1321 - val_accuracy: 0.9609\n",
            "Epoch 5/10\n",
            "6000/6000 [==============================] - 29s 5ms/step - loss: 0.1148 - accuracy: 0.9660 - val_loss: 0.1116 - val_accuracy: 0.9666\n",
            "Epoch 6/10\n",
            "6000/6000 [==============================] - 28s 5ms/step - loss: 0.0974 - accuracy: 0.9718 - val_loss: 0.1072 - val_accuracy: 0.9671\n",
            "Epoch 7/10\n",
            "6000/6000 [==============================] - 29s 5ms/step - loss: 0.0840 - accuracy: 0.9751 - val_loss: 0.0976 - val_accuracy: 0.9708\n",
            "Epoch 8/10\n",
            "6000/6000 [==============================] - 30s 5ms/step - loss: 0.0727 - accuracy: 0.9788 - val_loss: 0.0911 - val_accuracy: 0.9715\n",
            "Epoch 9/10\n",
            "6000/6000 [==============================] - 26s 4ms/step - loss: 0.0639 - accuracy: 0.9815 - val_loss: 0.0836 - val_accuracy: 0.9743\n",
            "Epoch 10/10\n",
            "6000/6000 [==============================] - 27s 4ms/step - loss: 0.0560 - accuracy: 0.9839 - val_loss: 0.0770 - val_accuracy: 0.9764\n"
          ]
        }
      ]
    },
    {
      "cell_type": "markdown",
      "source": [
        "If your implementation is correct, you will have a model of around 97% accuracy on the test set."
      ],
      "metadata": {
        "id": "tGcemESp2d82"
      }
    },
    {
      "cell_type": "markdown",
      "metadata": {
        "id": "qUoJqTrqOaBF"
      },
      "source": [
        "##**Q7. Plot loss and accuracy functions**\n",
        "\n",
        "Now that you have stored the loss and accuracy for both the training set and the testing set, you can then plot them to inspect their change with respect to the training epochs. Please make two plots (**2 marks**):\n",
        "\n",
        "* Plot the two curves showing the loss on the training and testing set with respect to the training epochs;\n",
        "* Plot the two curves showing the accuracy on training and testing set with respect to the training epochs.\n",
        "\n",
        "Make sure to label the two curves so that we know which one corresponds to the training set and which one corresponds to the testing set."
      ]
    },
    {
      "cell_type": "code",
      "metadata": {
        "id": "WI0xUNUmz8Gt",
        "colab": {
          "base_uri": "https://localhost:8080/",
          "height": 513
        },
        "outputId": "face06bb-3a6e-4660-91b3-9775ae341cea"
      },
      "source": [
        "# History for loss\n",
        "\n",
        "# START CODE HERE\n",
        "#print(history.history.keys())\n",
        "plt.plot(history.history[\"loss\"], label = \"training set\")\n",
        "plt.plot(history.history[\"val_loss\"], label = \"testing set\")\n",
        "plt.legend()\n",
        "\n",
        "\n",
        "# END CODE HERE\n",
        "plt.show()\n",
        "\n",
        "\n",
        "# History for accuracy\n",
        "\n",
        "# START CODE HERE\n",
        "plt.plot(history.history[\"accuracy\"], label = \"training set\")\n",
        "plt.plot(history.history[\"val_accuracy\"], label = \"testing set\")\n",
        "plt.legend()\n",
        "\n",
        "\n",
        "# END CODE HERE\n",
        "plt.show()\n"
      ],
      "execution_count": 69,
      "outputs": [
        {
          "output_type": "display_data",
          "data": {
            "text/plain": [
              "<Figure size 432x288 with 1 Axes>"
            ],
            "image/png": "[encoded data removed]"
          },
          "metadata": {
            "needs_background": "light"
          }
        },
        {
          "output_type": "display_data",
          "data": {
            "text/plain": [
              "<Figure size 432x288 with 1 Axes>"
            ],
            "image/png": "[encoded data removed]"
          },
          "metadata": {
            "needs_background": "light"
          }
        }
      ]
    },
    {
      "cell_type": "markdown",
      "metadata": {
        "id": "CeRcYKtATI4Y"
      },
      "source": [
        "##**Q8. Check the predictions of your model**\n",
        "\n",
        "This question is only to see what your model predicts, and if this is correct. No need to implement here, just run the cell and check your results!"
      ]
    },
    {
      "cell_type": "code",
      "metadata": {
        "id": "HJOZYGZrTggX",
        "colab": {
          "base_uri": "https://localhost:8080/",
          "height": 300
        },
        "outputId": "88b15b03-8a73-4ed4-fcd4-df7ad3485eea"
      },
      "source": [
        "plt.imshow(x_test[0])\n",
        "print(\"According to your model, the handwritten number shown is {}.\".format(np.argmax(model.predict(x_test_reshape)[0])))"
      ],
      "execution_count": 67,
      "outputs": [
        {
          "output_type": "stream",
          "name": "stdout",
          "text": [
            "313/313 [==============================] - 1s 3ms/step\n",
            "According to your model, the handwritten number shown is 7.\n"
          ]
        },
        {
          "output_type": "display_data",
          "data": {
            "text/plain": [
              "<Figure size 432x288 with 1 Axes>"
            ],
            "image/png": "[encoded data removed]"
          },
          "metadata": {
            "needs_background": "light"
          }
        }
      ]
    },
    {
      "cell_type": "code",
      "metadata": {
        "id": "0wmNUYQKTpPS",
        "colab": {
          "base_uri": "https://localhost:8080/",
          "height": 300
        },
        "outputId": "5a2060dc-dd66-4c4b-c750-6076c389381c"
      },
      "source": [
        "plt.imshow(x_test[587])\n",
        "print(\"According to your model, the handwritten number shown is {}.\".format(np.argmax(model.predict(x_test_reshape)[587])))"
      ],
      "execution_count": 68,
      "outputs": [
        {
          "output_type": "stream",
          "name": "stdout",
          "text": [
            "313/313 [==============================] - 1s 3ms/step\n",
            "According to your model, the handwritten number shown is 6.\n"
          ]
        },
        {
          "output_type": "display_data",
          "data": {
            "text/plain": [
              "<Figure size 432x288 with 1 Axes>"
            ],
            "image/png": "[encoded data removed]"
          },
          "metadata": {
            "needs_background": "light"
          }
        }
      ]
    },
    {
      "cell_type": "markdown",
      "source": [
        "## **Q9. What did you learn from this assignment?**\n",
        "\n",
        "Your feedback can help us to make this module better. In this question, you need to list out the difficulties and how you overcome them when doing the assignment. You can also talk about what you have learned and how do you think we should improve the assignment. This section is graded. Please type the comments in the text cell below and list them in bullet points. (**3 marks**)"
      ],
      "metadata": {
        "id": "1HjuUkDg-kFY"
      }
    },
    {
      "cell_type": "markdown",
      "source": [
        "Please enter your comments here by double-clicking on this text cell:\n",
        "\n",
        "* comment 1\n",
        "This assignment was much easier because there was less data manipulation as I let the library functions do most of the work. Some of the difficulty was trying to find the correct keras function to do the work, so I had to do more googling and finding answers.\n",
        "\n",
        "* comment 2\n",
        "Despite that, the assignment is quite good for data science undergraduates as this is the first time I touched neural networks and this is an extremely crucial task for machine learning. In the future I believe that this would come extremely handy for classifying. \n",
        "\n",
        "* etc.\n",
        "As we let the keras library functions to implement the neural network, I think it would be more interesting if we implement a small or simple neural network from scratch, similar to assignment 4,5 where we implement KNN and linear regression from scratch. It will help us gain a deeper understanding on how the keras model works. Though I agree that this will take more time, I think this will be extremely fulfilling for people learning machine learning. A suggestion could be to have this assignment deadline to be later so that we have more time implementing this from scratch."
      ],
      "metadata": {
        "id": "zr02llix-m0n"
      }
    },
    {
      "cell_type": "markdown",
      "metadata": {
        "id": "-REnvAChUdcq"
      },
      "source": [
        "\n",
        "\n",
        "---\n",
        "\n",
        "\n",
        "# End of your Assignment"
      ]
    }
  ]
}